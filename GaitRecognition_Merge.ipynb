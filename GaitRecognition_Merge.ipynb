{
  "nbformat": 4,
  "nbformat_minor": 0,
  "metadata": {
    "colab": {
      "provenance": []
    },
    "kernelspec": {
      "name": "python3",
      "display_name": "Python 3"
    },
    "language_info": {
      "name": "python"
    },
    "accelerator": "GPU",
    "gpuClass": "standard"
  },
  "cells": [
    {
      "cell_type": "code",
      "execution_count": null,
      "metadata": {
        "colab": {
          "base_uri": "https://localhost:8080/"
        },
        "id": "u1F7Kz6nts5G",
        "outputId": "c6c0c41f-b64e-4637-a51b-66f4b4034a9b"
      },
      "outputs": [
        {
          "output_type": "stream",
          "name": "stdout",
          "text": [
            "Mounted at /content/drive\n"
          ]
        }
      ],
      "source": [
        "from google.colab import drive\n",
        "drive.mount('/content/drive', force_remount=True)"
      ]
    },
    {
      "cell_type": "code",
      "source": [
        "import numpy as np\n",
        "import pandas as pd\n",
        "import matplotlib.pyplot as plt\n",
        "from matplotlib.ticker import FormatStrFormatter\n",
        "import seaborn as sns\n",
        "sns.set_style(\n",
        "    style='darkgrid', \n",
        "    rc={'axes.facecolor': '.9', 'grid.color': '.8'}\n",
        ")\n",
        "#sns.set_palette(palette='deep')\n",
        "#sns_c = sns.color_palette(palette='deep')\n",
        "%matplotlib inline\n",
        "plt.rcParams['figure.figsize'] = [12, 6]\n",
        "plt.rcParams['figure.dpi'] = 100"
      ],
      "metadata": {
        "id": "XqoBee99t9_n"
      },
      "execution_count": null,
      "outputs": []
    },
    {
      "cell_type": "code",
      "source": [
        "import os\n",
        "import numpy as np\n",
        "import matplotlib.pyplot as plt\n",
        "from imageio import imread\n",
        "from skimage.transform import resize\n",
        "import numpy as np\n",
        "from PIL import Image"
      ],
      "metadata": {
        "id": "8D9Y8XVBuKHn"
      },
      "execution_count": null,
      "outputs": []
    },
    {
      "cell_type": "code",
      "source": [
        "def mass_center(img,is_round=True):\n",
        "    Y = img.mean(axis=1)\n",
        "    X = img.mean(axis=0)\n",
        "    Y_ = np.sum(np.arange(Y.shape[0]) * Y)/np.sum(Y)\n",
        "    X_ = np.sum(np.arange(X.shape[0]) * X)/np.sum(X)\n",
        "    if is_round:\n",
        "        return int(round(X_)),int(round(Y_))\n",
        "    return X_,Y_\n",
        "\n",
        "def image_extract(img,newsize):\n",
        "    x_s = np.where(img.mean(axis=0)!=0)[0].min()\n",
        "    x_e = np.where(img.mean(axis=0)!=0)[0].max()\n",
        "    \n",
        "    y_s = np.where(img.mean(axis=1)!=0)[0].min()\n",
        "    y_e = np.where(img.mean(axis=1)!=0)[0].max()\n",
        "    \n",
        "    x_c,_ = mass_center(img)\n",
        "    x_s = x_c-newsize[1]//2\n",
        "    x_e = x_c+newsize[1]//2\n",
        "    img = img[y_s:y_e,x_s if x_s>0 else 0:x_e if x_e<img.shape[1] else img.shape[1]]\n",
        "    return np.asarray(Image.fromarray(img).resize(size=newsize).convert('L'))"
      ],
      "metadata": {
        "id": "GAGJdow6uMpP"
      },
      "execution_count": null,
      "outputs": []
    },
    {
      "cell_type": "code",
      "source": [
        "temp = []\n",
        "\n",
        "for id in range(1, 81):\n",
        "  if id == 5:\n",
        "    continue\n",
        "  path = f'/content/drive/MyDrive/CASIA/{str(id).zfill(3)}/nm-01/090/'\n",
        "  files = os.listdir(path)\n",
        "  ''' files.sort()\n",
        "  imgs = [imread(path+f) for f in files]\n",
        "  imgs = [image_extract(i,(200,150)) for i in imgs]\n",
        "  imgs = np.minimum(imgs,1)\n",
        "  #print(type(images)) ---> numpy.ndarray\n",
        "  print(imgs.shape)\n",
        "  images = np.append(images, imgs, 0) '''\n",
        "  temp.append(len(files))\n",
        "\n",
        "print(min(temp), max(temp), temp)"
      ],
      "metadata": {
        "colab": {
          "base_uri": "https://localhost:8080/"
        },
        "id": "0xpW_j4uuWKJ",
        "outputId": "7783697c-41e6-47da-88d8-2338f80cec95"
      },
      "execution_count": null,
      "outputs": [
        {
          "output_type": "stream",
          "name": "stdout",
          "text": [
            "43 76 [56, 61, 58, 68, 47, 56, 67, 53, 52, 66, 73, 67, 65, 63, 62, 56, 55, 54, 53, 63, 53, 68, 73, 60, 64, 71, 68, 58, 56, 60, 55, 59, 73, 61, 60, 71, 64, 68, 76, 51, 50, 62, 63, 72, 53, 64, 63, 54, 51, 50, 49, 54, 57, 61, 54, 51, 50, 62, 68, 56, 60, 54, 54, 62, 53, 61, 59, 58, 59, 67, 61, 63, 43, 64, 59, 64, 59, 62, 63]\n"
          ]
        }
      ]
    },
    {
      "cell_type": "code",
      "source": [
        "global input_time_step\n",
        "global output_time_step\n",
        "input_time_step=5\n",
        "output_time_step=1"
      ],
      "metadata": {
        "id": "X0GT6rBsPQYk"
      },
      "execution_count": null,
      "outputs": []
    },
    {
      "cell_type": "code",
      "source": [
        "def create_dataset(dataset, time_step=1, output_time_step=5):\n",
        "  X_for, X_back, Y = [], [], []\n",
        "  for i in range(time_step, len(dataset)-5):\n",
        "    a = dataset[(i-time_step):i]\n",
        "    b = dataset[(i+1):(i+6)][::-1]\n",
        "    X_for.append(a)\n",
        "    X_back.append(b)\n",
        "    Y.append(dataset[i][:])\n",
        "  return np.array(X_for), np.array(X_back), np.array(Y)"
      ],
      "metadata": {
        "id": "VgUnCirYPQwP"
      },
      "execution_count": null,
      "outputs": []
    },
    {
      "cell_type": "markdown",
      "source": [
        "# Loading the models"
      ],
      "metadata": {
        "id": "S7K4RxTJPCTY"
      }
    },
    {
      "cell_type": "code",
      "source": [
        "import tensorflow as tf"
      ],
      "metadata": {
        "id": "AT8fwT7BPXcU"
      },
      "execution_count": null,
      "outputs": []
    },
    {
      "cell_type": "code",
      "source": [
        "encoder = tf.keras.models.load_model('/content/drive/MyDrive/enc_casia.h5')\n",
        "decoder = tf.keras.models.load_model('/content/drive/MyDrive/dec_casia.h5')\n",
        "lstm_for = tf.keras.models.load_model('/content/drive/MyDrive/lstm_for_casia.h5')\n",
        "lstm_back = tf.keras.models.load_model('/content/drive/MyDrive/lstm_back_casia.h5')"
      ],
      "metadata": {
        "id": "bSl_kGlNu-gj"
      },
      "execution_count": null,
      "outputs": []
    },
    {
      "cell_type": "markdown",
      "source": [
        "# Data for training"
      ],
      "metadata": {
        "id": "K-f8den5R8D-"
      }
    },
    {
      "cell_type": "code",
      "source": [
        "subjects = ['001', '036', '069', '072', '078']"
      ],
      "metadata": {
        "id": "1-uo1TzGPZPy"
      },
      "execution_count": null,
      "outputs": []
    },
    {
      "cell_type": "code",
      "source": [
        "images = []\n",
        "\n",
        "for id in subjects:\n",
        "  path = f'/content/drive/MyDrive/CASIA/{id}/nm-01/090/'\n",
        "  files = os.listdir(path)\n",
        "  files.sort()\n",
        "  imgs = [imread(path+f) for f in files]\n",
        "  imgs = [image_extract(i,(200,150)) for i in imgs]\n",
        "  imgs = np.minimum(imgs,1)\n",
        "  #print(type(images)) ---> numpy.ndarray\n",
        "  print(imgs.shape)\n",
        "  images.append(imgs)"
      ],
      "metadata": {
        "colab": {
          "base_uri": "https://localhost:8080/"
        },
        "id": "rbtUFys2R-U9",
        "outputId": "f2c5bdc1-7027-4075-cca0-efb9b0071aa5"
      },
      "execution_count": null,
      "outputs": [
        {
          "output_type": "stream",
          "name": "stderr",
          "text": [
            "<ipython-input-11-5c161363674e>:7: DeprecationWarning: Starting with ImageIO v3 the behavior of this function will switch to that of iio.v3.imread. To keep the current behavior (and make this warning disappear) use `import imageio.v2 as imageio` or call `imageio.v2.imread` directly.\n",
            "  imgs = [imread(path+f) for f in files]\n"
          ]
        },
        {
          "output_type": "stream",
          "name": "stdout",
          "text": [
            "(56, 150, 200)\n",
            "(60, 150, 200)\n",
            "(58, 150, 200)\n",
            "(61, 150, 200)\n",
            "(59, 150, 200)\n"
          ]
        }
      ]
    },
    {
      "cell_type": "code",
      "source": [
        "enc_images = []"
      ],
      "metadata": {
        "id": "p1JqLopNSE41"
      },
      "execution_count": null,
      "outputs": []
    },
    {
      "cell_type": "code",
      "source": [
        "for i in range(len(images)):\n",
        "  enc_images.append(np.round(encoder.predict(np.expand_dims(images[i], axis=3))))"
      ],
      "metadata": {
        "colab": {
          "base_uri": "https://localhost:8080/"
        },
        "id": "f-vnOcqHSpkj",
        "outputId": "70ca309d-a0f5-4995-a56e-0c06fc5d61af"
      },
      "execution_count": null,
      "outputs": [
        {
          "output_type": "stream",
          "name": "stdout",
          "text": [
            "2/2 [==============================] - 10s 148ms/step\n",
            "2/2 [==============================] - 0s 134ms/step\n",
            "2/2 [==============================] - 0s 115ms/step\n",
            "2/2 [==============================] - 0s 129ms/step\n",
            "2/2 [==============================] - 0s 131ms/step\n"
          ]
        }
      ]
    },
    {
      "cell_type": "code",
      "source": [
        "input_shape = (input_time_step, 15200)"
      ],
      "metadata": {
        "id": "pKHy_vRtSw57"
      },
      "execution_count": null,
      "outputs": []
    },
    {
      "cell_type": "code",
      "source": [
        "X_for = []\n",
        "X_back = []\n",
        "Y = []\n",
        "\n",
        "fusion_Y = []\n",
        "\n",
        "for i in range(len(enc_images)):\n",
        "  x_f, x_b, y = create_dataset(enc_images[i], input_time_step, output_time_step)\n",
        "  X_for.extend(x_f.reshape(x_f.shape[0], 5, 15200))\n",
        "  X_back.extend(x_b.reshape(x_b.shape[0], 5, 15200))\n",
        "  Y.extend(y.reshape(y.shape[0], 15200))\n",
        "\n",
        "  _, _, temp = create_dataset(images[i], input_time_step, output_time_step)\n",
        "  fusion_Y.extend(temp)"
      ],
      "metadata": {
        "id": "9pQ8Dk03S1Km"
      },
      "execution_count": null,
      "outputs": []
    },
    {
      "cell_type": "code",
      "source": [
        "len(X_for)"
      ],
      "metadata": {
        "colab": {
          "base_uri": "https://localhost:8080/"
        },
        "id": "iMJwEfN4S6XM",
        "outputId": "a7431d65-aae8-401e-d25f-6bfeb2b117b7"
      },
      "execution_count": null,
      "outputs": [
        {
          "output_type": "execute_result",
          "data": {
            "text/plain": [
              "244"
            ]
          },
          "metadata": {},
          "execution_count": 16
        }
      ]
    },
    {
      "cell_type": "code",
      "source": [
        "from tensorflow.keras.layers import LSTM, Input, Dropout, Dense, Bidirectional, Conv2D\n",
        "from tensorflow.keras.models import Model\n",
        "from tensorflow.keras.optimizers import Adam"
      ],
      "metadata": {
        "id": "6oUgLNVuS8Tn"
      },
      "execution_count": null,
      "outputs": []
    },
    {
      "cell_type": "code",
      "source": [
        "dim = 15200"
      ],
      "metadata": {
        "id": "ykiKIsraS-Az"
      },
      "execution_count": null,
      "outputs": []
    },
    {
      "cell_type": "code",
      "source": [
        "X_for = np.array(X_for)\n",
        "X_back = np.array(X_back)\n",
        "Y = np.array(Y)"
      ],
      "metadata": {
        "id": "uaU0hUjGTAiX"
      },
      "execution_count": null,
      "outputs": []
    },
    {
      "cell_type": "code",
      "source": [
        "X_for.shape, X_back.shape"
      ],
      "metadata": {
        "colab": {
          "base_uri": "https://localhost:8080/"
        },
        "id": "gfV3P1fRTCV9",
        "outputId": "cf73c517-e790-45b3-d988-61052603d005"
      },
      "execution_count": null,
      "outputs": [
        {
          "output_type": "execute_result",
          "data": {
            "text/plain": [
              "((244, 5, 15200), (244, 5, 15200))"
            ]
          },
          "metadata": {},
          "execution_count": 20
        }
      ]
    },
    {
      "cell_type": "code",
      "source": [
        "Y_for = lstm_for.predict(X_for)\n",
        "Y_back = lstm_back.predict(X_back)"
      ],
      "metadata": {
        "colab": {
          "base_uri": "https://localhost:8080/"
        },
        "id": "GM33RwEvTFXK",
        "outputId": "b91e0cba-48bf-4c83-cd65-262482bf6621"
      },
      "execution_count": null,
      "outputs": [
        {
          "output_type": "stream",
          "name": "stdout",
          "text": [
            "8/8 [==============================] - 0s 26ms/step\n",
            "8/8 [==============================] - 1s 21ms/step\n"
          ]
        }
      ]
    },
    {
      "cell_type": "code",
      "source": [
        "Y_for.shape, Y_back.shape"
      ],
      "metadata": {
        "colab": {
          "base_uri": "https://localhost:8080/"
        },
        "id": "EBXW4SWeTHRX",
        "outputId": "87187d8e-08fe-4bff-ac12-63e3562939f3"
      },
      "execution_count": null,
      "outputs": [
        {
          "output_type": "execute_result",
          "data": {
            "text/plain": [
              "((244, 15200), (244, 15200))"
            ]
          },
          "metadata": {},
          "execution_count": 24
        }
      ]
    },
    {
      "cell_type": "code",
      "source": [
        "Y_for = np.round(decoder.predict(Y_for.reshape((-1, 38, 50, 8))))\n",
        "Y_back = np.round(decoder.predict(Y_back.reshape((-1, 38, 50, 8))))\n",
        "\n",
        "Y_for.shape, Y_back.shape"
      ],
      "metadata": {
        "colab": {
          "base_uri": "https://localhost:8080/"
        },
        "id": "x47NyJGhTJTM",
        "outputId": "0db52091-affb-423c-efcc-0b7a14435b2a"
      },
      "execution_count": null,
      "outputs": [
        {
          "output_type": "stream",
          "name": "stdout",
          "text": [
            "8/8 [==============================] - 1s 36ms/step\n",
            "8/8 [==============================] - 0s 5ms/step\n"
          ]
        },
        {
          "output_type": "execute_result",
          "data": {
            "text/plain": [
              "((244, 150, 200, 1), (244, 150, 200, 1))"
            ]
          },
          "metadata": {},
          "execution_count": 25
        }
      ]
    },
    {
      "cell_type": "code",
      "source": [
        "len(fusion_Y), type(fusion_Y)"
      ],
      "metadata": {
        "colab": {
          "base_uri": "https://localhost:8080/"
        },
        "id": "ts0lbrBpTXCP",
        "outputId": "a294ad07-bb6f-4b9d-b7f8-f1dbfecdeb5e"
      },
      "execution_count": null,
      "outputs": [
        {
          "output_type": "execute_result",
          "data": {
            "text/plain": [
              "(244, list)"
            ]
          },
          "metadata": {},
          "execution_count": 26
        }
      ]
    },
    {
      "cell_type": "code",
      "source": [
        "fusion_Y = np.array(fusion_Y)"
      ],
      "metadata": {
        "id": "sNRuYzK6TaUi"
      },
      "execution_count": null,
      "outputs": []
    },
    {
      "cell_type": "code",
      "source": [
        "shuffler = np.random.permutation(len(fusion_Y))\n",
        "\n",
        "Y_for = Y_for[shuffler]\n",
        "Y_back = Y_back[shuffler]\n",
        "fusion_Y = fusion_Y[shuffler]"
      ],
      "metadata": {
        "id": "Rm_om_CeTnWV"
      },
      "execution_count": null,
      "outputs": []
    },
    {
      "cell_type": "code",
      "source": [
        "Y_for.shape, Y_back.shape, fusion_Y.shape"
      ],
      "metadata": {
        "colab": {
          "base_uri": "https://localhost:8080/"
        },
        "id": "3ehV3pgfTpKS",
        "outputId": "4c968500-5c9a-4a44-9941-8fb5c267d573"
      },
      "execution_count": null,
      "outputs": [
        {
          "output_type": "execute_result",
          "data": {
            "text/plain": [
              "((244, 150, 200, 1), (244, 150, 200, 1), (244, 150, 200))"
            ]
          },
          "metadata": {},
          "execution_count": 29
        }
      ]
    },
    {
      "cell_type": "code",
      "source": [
        "fusion_Y = np.expand_dims(fusion_Y, axis=3)"
      ],
      "metadata": {
        "id": "Axh0Jff9Trki"
      },
      "execution_count": null,
      "outputs": []
    },
    {
      "cell_type": "markdown",
      "source": [
        "# Ground truth = `fusion_Y`\n",
        "---\n",
        "Produced by forward LSTM = `Y_for`\n",
        "---\n",
        "Produced by backward LStM = `Y_back`\n",
        "---"
      ],
      "metadata": {
        "id": "FNP_RSfzUDDl"
      }
    },
    {
      "cell_type": "markdown",
      "source": [
        "# Fusion Network"
      ],
      "metadata": {
        "id": "MGHOMFAyUFiJ"
      }
    },
    {
      "cell_type": "code",
      "source": [
        "import tensorflow as tf\n",
        "from tensorflow.keras.layers import LSTM, Input, Dropout, Dense, Bidirectional, Conv2D\n",
        "from tensorflow.keras.models import Model\n",
        "from tensorflow.keras.optimizers import Adam\n",
        "from tensorflow.keras import Input\n",
        "from tensorflow.keras.layers import InputLayer, Dense, Conv2D, MaxPooling2D, UpSampling2D, ZeroPadding2D, Flatten, Reshape\n",
        "from tensorflow.keras import layers"
      ],
      "metadata": {
        "id": "YAwwe9agTzWG"
      },
      "execution_count": null,
      "outputs": []
    },
    {
      "cell_type": "code",
      "source": [
        "inp = tf.keras.Input(shape=(150, 200, 2))"
      ],
      "metadata": {
        "id": "PSRVR6lPUJ23"
      },
      "execution_count": null,
      "outputs": []
    },
    {
      "cell_type": "code",
      "source": [
        "def residual_block(y, nb_channels, _strides=(1, 1), _project_shortcut=False):\n",
        "    shortcut = y\n",
        "\n",
        "    y = layers.Conv2D(nb_channels, kernel_size=(3, 3), strides=_strides, padding='same')(y)\n",
        "    y = layers.BatchNormalization()(y)\n",
        "    y = layers.ReLU()(y)\n",
        "\n",
        "    y = layers.Conv2D(nb_channels, kernel_size=(3, 3), strides=(1, 1), padding='same')(y)\n",
        "    y = layers.BatchNormalization()(y)\n",
        "\n",
        "    if _project_shortcut or _strides != (1, 1):\n",
        "        shortcut = layers.Conv2D(nb_channels, kernel_size=(1, 1), strides=_strides, padding='same')(shortcut)\n",
        "        shortcut = layers.BatchNormalization()(shortcut)\n",
        "\n",
        "    y = layers.add([shortcut, y])\n",
        "\n",
        "    return y"
      ],
      "metadata": {
        "id": "u118eQASUQD0"
      },
      "execution_count": null,
      "outputs": []
    },
    {
      "cell_type": "code",
      "source": [
        "d = residual_block(inp, 2)\n",
        "print(d.shape)"
      ],
      "metadata": {
        "colab": {
          "base_uri": "https://localhost:8080/"
        },
        "id": "Lgx2zljXUVqf",
        "outputId": "b3e74e65-00d3-4032-8044-ec98a8a515cc"
      },
      "execution_count": null,
      "outputs": [
        {
          "output_type": "stream",
          "name": "stdout",
          "text": [
            "(None, 150, 200, 2)\n"
          ]
        }
      ]
    },
    {
      "cell_type": "code",
      "source": [
        "d = Conv2D(1, (3, 3), activation='sigmoid', padding='same', name='merge_1')(d)\n",
        "print(d.shape)"
      ],
      "metadata": {
        "colab": {
          "base_uri": "https://localhost:8080/"
        },
        "id": "82lrQTaUUX9u",
        "outputId": "52b211ee-66bd-4091-ad91-5fb8cdd70647"
      },
      "execution_count": null,
      "outputs": [
        {
          "output_type": "stream",
          "name": "stdout",
          "text": [
            "(None, 150, 200, 1)\n"
          ]
        }
      ]
    },
    {
      "cell_type": "code",
      "source": [
        "merge = tf.keras.Model(inp, d)"
      ],
      "metadata": {
        "id": "lYX8NQ4zUmAQ"
      },
      "execution_count": null,
      "outputs": []
    },
    {
      "cell_type": "code",
      "source": [
        "merge.compile(optimizer='Adam', loss='binary_crossentropy')"
      ],
      "metadata": {
        "id": "2VjYe7zuU0E4"
      },
      "execution_count": null,
      "outputs": []
    },
    {
      "cell_type": "code",
      "source": [
        "''' input = np.vstack((Y_for, Y_back))\n",
        "input.shape '''\n",
        "input = np.append(Y_for, Y_back, axis=3)\n",
        "input.shape"
      ],
      "metadata": {
        "colab": {
          "base_uri": "https://localhost:8080/"
        },
        "id": "6nn86npjVTRM",
        "outputId": "3c2e8024-aa91-4f83-8586-61dc10f30d17"
      },
      "execution_count": null,
      "outputs": [
        {
          "output_type": "execute_result",
          "data": {
            "text/plain": [
              "(244, 150, 200, 2)"
            ]
          },
          "metadata": {},
          "execution_count": 54
        }
      ]
    },
    {
      "cell_type": "code",
      "source": [
        "np.max(Y_for), np.min(Y_back)"
      ],
      "metadata": {
        "colab": {
          "base_uri": "https://localhost:8080/"
        },
        "id": "NzVUxpBBU5c-",
        "outputId": "202357f0-9a25-4f6c-827e-2b12beb8e18e"
      },
      "execution_count": null,
      "outputs": [
        {
          "output_type": "execute_result",
          "data": {
            "text/plain": [
              "(1.0, 0.0)"
            ]
          },
          "metadata": {},
          "execution_count": 55
        }
      ]
    },
    {
      "cell_type": "code",
      "source": [
        "type(fusion_Y)"
      ],
      "metadata": {
        "colab": {
          "base_uri": "https://localhost:8080/"
        },
        "id": "CurYUoqOWCme",
        "outputId": "d2ad0f5b-5688-4694-86d1-9de439ee7f57"
      },
      "execution_count": null,
      "outputs": [
        {
          "output_type": "execute_result",
          "data": {
            "text/plain": [
              "numpy.ndarray"
            ]
          },
          "metadata": {},
          "execution_count": 57
        }
      ]
    },
    {
      "cell_type": "code",
      "source": [
        "type(input)"
      ],
      "metadata": {
        "colab": {
          "base_uri": "https://localhost:8080/"
        },
        "id": "jYLvxtrsWGNY",
        "outputId": "b6544dca-bd50-4616-8f8a-cc03d4720662"
      },
      "execution_count": null,
      "outputs": [
        {
          "output_type": "execute_result",
          "data": {
            "text/plain": [
              "numpy.ndarray"
            ]
          },
          "metadata": {},
          "execution_count": 58
        }
      ]
    },
    {
      "cell_type": "code",
      "source": [
        "fusion_Y.shape"
      ],
      "metadata": {
        "colab": {
          "base_uri": "https://localhost:8080/"
        },
        "id": "F8owb2J-WJJL",
        "outputId": "e4f62638-8527-4ae3-ca57-a8bc2388df0a"
      },
      "execution_count": null,
      "outputs": [
        {
          "output_type": "execute_result",
          "data": {
            "text/plain": [
              "(244, 150, 200, 1)"
            ]
          },
          "metadata": {},
          "execution_count": 59
        }
      ]
    },
    {
      "cell_type": "code",
      "source": [
        "merge_history = merge.fit(input, fusion_Y, epochs=200, validation_split=0.1)"
      ],
      "metadata": {
        "colab": {
          "base_uri": "https://localhost:8080/"
        },
        "id": "wgSO9pk5U7Il",
        "outputId": "1e924a39-e7b6-468e-e3b1-44ce121644b5"
      },
      "execution_count": null,
      "outputs": [
        {
          "output_type": "stream",
          "name": "stdout",
          "text": [
            "Epoch 1/200\n",
            "7/7 [==============================] - 2s 50ms/step - loss: 0.8619 - val_loss: 0.6335\n",
            "Epoch 2/200\n",
            "7/7 [==============================] - 0s 27ms/step - loss: 0.7973 - val_loss: 0.6262\n",
            "Epoch 3/200\n",
            "7/7 [==============================] - 0s 21ms/step - loss: 0.7575 - val_loss: 0.6177\n",
            "Epoch 4/200\n",
            "7/7 [==============================] - 0s 20ms/step - loss: 0.7233 - val_loss: 0.6088\n",
            "Epoch 5/200\n",
            "7/7 [==============================] - 0s 24ms/step - loss: 0.6939 - val_loss: 0.5999\n",
            "Epoch 6/200\n",
            "7/7 [==============================] - 0s 24ms/step - loss: 0.6680 - val_loss: 0.5911\n",
            "Epoch 7/200\n",
            "7/7 [==============================] - 0s 23ms/step - loss: 0.6442 - val_loss: 0.5815\n",
            "Epoch 8/200\n",
            "7/7 [==============================] - 0s 20ms/step - loss: 0.6209 - val_loss: 0.5709\n",
            "Epoch 9/200\n",
            "7/7 [==============================] - 0s 21ms/step - loss: 0.5960 - val_loss: 0.5594\n",
            "Epoch 10/200\n",
            "7/7 [==============================] - 0s 20ms/step - loss: 0.5684 - val_loss: 0.5459\n",
            "Epoch 11/200\n",
            "7/7 [==============================] - 0s 20ms/step - loss: 0.5374 - val_loss: 0.5309\n",
            "Epoch 12/200\n",
            "7/7 [==============================] - 0s 20ms/step - loss: 0.5056 - val_loss: 0.5148\n",
            "Epoch 13/200\n",
            "7/7 [==============================] - 0s 23ms/step - loss: 0.4754 - val_loss: 0.4988\n",
            "Epoch 14/200\n",
            "7/7 [==============================] - 0s 20ms/step - loss: 0.4487 - val_loss: 0.4815\n",
            "Epoch 15/200\n",
            "7/7 [==============================] - 0s 21ms/step - loss: 0.4251 - val_loss: 0.4636\n",
            "Epoch 16/200\n",
            "7/7 [==============================] - 0s 23ms/step - loss: 0.4036 - val_loss: 0.4464\n",
            "Epoch 17/200\n",
            "7/7 [==============================] - 0s 21ms/step - loss: 0.3838 - val_loss: 0.4289\n",
            "Epoch 18/200\n",
            "7/7 [==============================] - 0s 20ms/step - loss: 0.3676 - val_loss: 0.4092\n",
            "Epoch 19/200\n",
            "7/7 [==============================] - 0s 23ms/step - loss: 0.3554 - val_loss: 0.3898\n",
            "Epoch 20/200\n",
            "7/7 [==============================] - 0s 24ms/step - loss: 0.3459 - val_loss: 0.3704\n",
            "Epoch 21/200\n",
            "7/7 [==============================] - 0s 22ms/step - loss: 0.3382 - val_loss: 0.3540\n",
            "Epoch 22/200\n",
            "7/7 [==============================] - 0s 24ms/step - loss: 0.3315 - val_loss: 0.3396\n",
            "Epoch 23/200\n",
            "7/7 [==============================] - 0s 22ms/step - loss: 0.3255 - val_loss: 0.3267\n",
            "Epoch 24/200\n",
            "7/7 [==============================] - 0s 22ms/step - loss: 0.3200 - val_loss: 0.3156\n",
            "Epoch 25/200\n",
            "7/7 [==============================] - 0s 22ms/step - loss: 0.3148 - val_loss: 0.3042\n",
            "Epoch 26/200\n",
            "7/7 [==============================] - 0s 24ms/step - loss: 0.3096 - val_loss: 0.2938\n",
            "Epoch 27/200\n",
            "7/7 [==============================] - 0s 22ms/step - loss: 0.3047 - val_loss: 0.2838\n",
            "Epoch 28/200\n",
            "7/7 [==============================] - 0s 22ms/step - loss: 0.2999 - val_loss: 0.2765\n",
            "Epoch 29/200\n",
            "7/7 [==============================] - 0s 23ms/step - loss: 0.2950 - val_loss: 0.2698\n",
            "Epoch 30/200\n",
            "7/7 [==============================] - 0s 23ms/step - loss: 0.2901 - val_loss: 0.2631\n",
            "Epoch 31/200\n",
            "7/7 [==============================] - 0s 18ms/step - loss: 0.2851 - val_loss: 0.2572\n",
            "Epoch 32/200\n",
            "7/7 [==============================] - 0s 18ms/step - loss: 0.2800 - val_loss: 0.2513\n",
            "Epoch 33/200\n",
            "7/7 [==============================] - 0s 18ms/step - loss: 0.2748 - val_loss: 0.2448\n",
            "Epoch 34/200\n",
            "7/7 [==============================] - 0s 18ms/step - loss: 0.2694 - val_loss: 0.2380\n",
            "Epoch 35/200\n",
            "7/7 [==============================] - 0s 18ms/step - loss: 0.2641 - val_loss: 0.2318\n",
            "Epoch 36/200\n",
            "7/7 [==============================] - 0s 18ms/step - loss: 0.2588 - val_loss: 0.2260\n",
            "Epoch 37/200\n",
            "7/7 [==============================] - 0s 18ms/step - loss: 0.2536 - val_loss: 0.2198\n",
            "Epoch 38/200\n",
            "7/7 [==============================] - 0s 18ms/step - loss: 0.2485 - val_loss: 0.2142\n",
            "Epoch 39/200\n",
            "7/7 [==============================] - 0s 17ms/step - loss: 0.2437 - val_loss: 0.2088\n",
            "Epoch 40/200\n",
            "7/7 [==============================] - 0s 18ms/step - loss: 0.2389 - val_loss: 0.2034\n",
            "Epoch 41/200\n",
            "7/7 [==============================] - 0s 18ms/step - loss: 0.2344 - val_loss: 0.1989\n",
            "Epoch 42/200\n",
            "7/7 [==============================] - 0s 18ms/step - loss: 0.2300 - val_loss: 0.1962\n",
            "Epoch 43/200\n",
            "7/7 [==============================] - 0s 17ms/step - loss: 0.2257 - val_loss: 0.1936\n",
            "Epoch 44/200\n",
            "7/7 [==============================] - 0s 18ms/step - loss: 0.2216 - val_loss: 0.1909\n",
            "Epoch 45/200\n",
            "7/7 [==============================] - 0s 18ms/step - loss: 0.2174 - val_loss: 0.1882\n",
            "Epoch 46/200\n",
            "7/7 [==============================] - 0s 18ms/step - loss: 0.2135 - val_loss: 0.1852\n",
            "Epoch 47/200\n",
            "7/7 [==============================] - 0s 18ms/step - loss: 0.2089 - val_loss: 0.1816\n",
            "Epoch 48/200\n",
            "7/7 [==============================] - 0s 18ms/step - loss: 0.2028 - val_loss: 0.1788\n",
            "Epoch 49/200\n",
            "7/7 [==============================] - 0s 18ms/step - loss: 0.1973 - val_loss: 0.1763\n",
            "Epoch 50/200\n",
            "7/7 [==============================] - 0s 17ms/step - loss: 0.1922 - val_loss: 0.1741\n",
            "Epoch 51/200\n",
            "7/7 [==============================] - 0s 17ms/step - loss: 0.1878 - val_loss: 0.1721\n",
            "Epoch 52/200\n",
            "7/7 [==============================] - 0s 17ms/step - loss: 0.1834 - val_loss: 0.1704\n",
            "Epoch 53/200\n",
            "7/7 [==============================] - 0s 17ms/step - loss: 0.1795 - val_loss: 0.1696\n",
            "Epoch 54/200\n",
            "7/7 [==============================] - 0s 17ms/step - loss: 0.1757 - val_loss: 0.1693\n",
            "Epoch 55/200\n",
            "7/7 [==============================] - 0s 17ms/step - loss: 0.1721 - val_loss: 0.1692\n",
            "Epoch 56/200\n",
            "7/7 [==============================] - 0s 18ms/step - loss: 0.1686 - val_loss: 0.1690\n",
            "Epoch 57/200\n",
            "7/7 [==============================] - 0s 19ms/step - loss: 0.1649 - val_loss: 0.1689\n",
            "Epoch 58/200\n",
            "7/7 [==============================] - 0s 18ms/step - loss: 0.1613 - val_loss: 0.1690\n",
            "Epoch 59/200\n",
            "7/7 [==============================] - 0s 17ms/step - loss: 0.1579 - val_loss: 0.1691\n",
            "Epoch 60/200\n",
            "7/7 [==============================] - 0s 18ms/step - loss: 0.1547 - val_loss: 0.1684\n",
            "Epoch 61/200\n",
            "7/7 [==============================] - 0s 18ms/step - loss: 0.1514 - val_loss: 0.1675\n",
            "Epoch 62/200\n",
            "7/7 [==============================] - 0s 17ms/step - loss: 0.1483 - val_loss: 0.1665\n",
            "Epoch 63/200\n",
            "7/7 [==============================] - 0s 18ms/step - loss: 0.1453 - val_loss: 0.1651\n",
            "Epoch 64/200\n",
            "7/7 [==============================] - 0s 18ms/step - loss: 0.1422 - val_loss: 0.1640\n",
            "Epoch 65/200\n",
            "7/7 [==============================] - 0s 18ms/step - loss: 0.1392 - val_loss: 0.1624\n",
            "Epoch 66/200\n",
            "7/7 [==============================] - 0s 18ms/step - loss: 0.1362 - val_loss: 0.1605\n",
            "Epoch 67/200\n",
            "7/7 [==============================] - 0s 17ms/step - loss: 0.1334 - val_loss: 0.1581\n",
            "Epoch 68/200\n",
            "7/7 [==============================] - 0s 18ms/step - loss: 0.1305 - val_loss: 0.1558\n",
            "Epoch 69/200\n",
            "7/7 [==============================] - 0s 17ms/step - loss: 0.1277 - val_loss: 0.1532\n",
            "Epoch 70/200\n",
            "7/7 [==============================] - 0s 17ms/step - loss: 0.1250 - val_loss: 0.1504\n",
            "Epoch 71/200\n",
            "7/7 [==============================] - 0s 18ms/step - loss: 0.1223 - val_loss: 0.1481\n",
            "Epoch 72/200\n",
            "7/7 [==============================] - 0s 18ms/step - loss: 0.1197 - val_loss: 0.1460\n",
            "Epoch 73/200\n",
            "7/7 [==============================] - 0s 18ms/step - loss: 0.1170 - val_loss: 0.1439\n",
            "Epoch 74/200\n",
            "7/7 [==============================] - 0s 18ms/step - loss: 0.1145 - val_loss: 0.1416\n",
            "Epoch 75/200\n",
            "7/7 [==============================] - 0s 18ms/step - loss: 0.1120 - val_loss: 0.1388\n",
            "Epoch 76/200\n",
            "7/7 [==============================] - 0s 18ms/step - loss: 0.1096 - val_loss: 0.1349\n",
            "Epoch 77/200\n",
            "7/7 [==============================] - 0s 17ms/step - loss: 0.1072 - val_loss: 0.1309\n",
            "Epoch 78/200\n",
            "7/7 [==============================] - 0s 17ms/step - loss: 0.1049 - val_loss: 0.1268\n",
            "Epoch 79/200\n",
            "7/7 [==============================] - 0s 18ms/step - loss: 0.1028 - val_loss: 0.1228\n",
            "Epoch 80/200\n",
            "7/7 [==============================] - 0s 18ms/step - loss: 0.1008 - val_loss: 0.1206\n",
            "Epoch 81/200\n",
            "7/7 [==============================] - 0s 18ms/step - loss: 0.0988 - val_loss: 0.1198\n",
            "Epoch 82/200\n",
            "7/7 [==============================] - 0s 18ms/step - loss: 0.0970 - val_loss: 0.1172\n",
            "Epoch 83/200\n",
            "7/7 [==============================] - 0s 18ms/step - loss: 0.0953 - val_loss: 0.1149\n",
            "Epoch 84/200\n",
            "7/7 [==============================] - 0s 18ms/step - loss: 0.0937 - val_loss: 0.1144\n",
            "Epoch 85/200\n",
            "7/7 [==============================] - 0s 17ms/step - loss: 0.0921 - val_loss: 0.1124\n",
            "Epoch 86/200\n",
            "7/7 [==============================] - 0s 18ms/step - loss: 0.0906 - val_loss: 0.1111\n",
            "Epoch 87/200\n",
            "7/7 [==============================] - 0s 17ms/step - loss: 0.0891 - val_loss: 0.1100\n",
            "Epoch 88/200\n",
            "7/7 [==============================] - 0s 17ms/step - loss: 0.0877 - val_loss: 0.1085\n",
            "Epoch 89/200\n",
            "7/7 [==============================] - 0s 18ms/step - loss: 0.0864 - val_loss: 0.1072\n",
            "Epoch 90/200\n",
            "7/7 [==============================] - 0s 18ms/step - loss: 0.0851 - val_loss: 0.1060\n",
            "Epoch 91/200\n",
            "7/7 [==============================] - 0s 18ms/step - loss: 0.0839 - val_loss: 0.1046\n",
            "Epoch 92/200\n",
            "7/7 [==============================] - 0s 17ms/step - loss: 0.0828 - val_loss: 0.1037\n",
            "Epoch 93/200\n",
            "7/7 [==============================] - 0s 17ms/step - loss: 0.0817 - val_loss: 0.1021\n",
            "Epoch 94/200\n",
            "7/7 [==============================] - 0s 18ms/step - loss: 0.0805 - val_loss: 0.1004\n",
            "Epoch 95/200\n",
            "7/7 [==============================] - 0s 17ms/step - loss: 0.0795 - val_loss: 0.0989\n",
            "Epoch 96/200\n",
            "7/7 [==============================] - 0s 17ms/step - loss: 0.0785 - val_loss: 0.0973\n",
            "Epoch 97/200\n",
            "7/7 [==============================] - 0s 18ms/step - loss: 0.0776 - val_loss: 0.0953\n",
            "Epoch 98/200\n",
            "7/7 [==============================] - 0s 18ms/step - loss: 0.0768 - val_loss: 0.0939\n",
            "Epoch 99/200\n",
            "7/7 [==============================] - 0s 18ms/step - loss: 0.0759 - val_loss: 0.0925\n",
            "Epoch 100/200\n",
            "7/7 [==============================] - 0s 19ms/step - loss: 0.0751 - val_loss: 0.0910\n",
            "Epoch 101/200\n",
            "7/7 [==============================] - 0s 18ms/step - loss: 0.0744 - val_loss: 0.0894\n",
            "Epoch 102/200\n",
            "7/7 [==============================] - 0s 18ms/step - loss: 0.0737 - val_loss: 0.0881\n",
            "Epoch 103/200\n",
            "7/7 [==============================] - 0s 18ms/step - loss: 0.0730 - val_loss: 0.0866\n",
            "Epoch 104/200\n",
            "7/7 [==============================] - 0s 17ms/step - loss: 0.0724 - val_loss: 0.0855\n",
            "Epoch 105/200\n",
            "7/7 [==============================] - 0s 20ms/step - loss: 0.0717 - val_loss: 0.0847\n",
            "Epoch 106/200\n",
            "7/7 [==============================] - 0s 17ms/step - loss: 0.0712 - val_loss: 0.0835\n",
            "Epoch 107/200\n",
            "7/7 [==============================] - 0s 18ms/step - loss: 0.0705 - val_loss: 0.0822\n",
            "Epoch 108/200\n",
            "7/7 [==============================] - 0s 17ms/step - loss: 0.0700 - val_loss: 0.0809\n",
            "Epoch 109/200\n",
            "7/7 [==============================] - 0s 21ms/step - loss: 0.0695 - val_loss: 0.0803\n",
            "Epoch 110/200\n",
            "7/7 [==============================] - 0s 23ms/step - loss: 0.0690 - val_loss: 0.0795\n",
            "Epoch 111/200\n",
            "7/7 [==============================] - 0s 22ms/step - loss: 0.0685 - val_loss: 0.0784\n",
            "Epoch 112/200\n",
            "7/7 [==============================] - 0s 24ms/step - loss: 0.0681 - val_loss: 0.0776\n",
            "Epoch 113/200\n",
            "7/7 [==============================] - 0s 20ms/step - loss: 0.0676 - val_loss: 0.0770\n",
            "Epoch 114/200\n",
            "7/7 [==============================] - 0s 21ms/step - loss: 0.0673 - val_loss: 0.0764\n",
            "Epoch 115/200\n",
            "7/7 [==============================] - 0s 22ms/step - loss: 0.0668 - val_loss: 0.0754\n",
            "Epoch 116/200\n",
            "7/7 [==============================] - 0s 22ms/step - loss: 0.0664 - val_loss: 0.0750\n",
            "Epoch 117/200\n",
            "7/7 [==============================] - 0s 21ms/step - loss: 0.0661 - val_loss: 0.0744\n",
            "Epoch 118/200\n",
            "7/7 [==============================] - 0s 20ms/step - loss: 0.0657 - val_loss: 0.0737\n",
            "Epoch 119/200\n",
            "7/7 [==============================] - 0s 23ms/step - loss: 0.0654 - val_loss: 0.0733\n",
            "Epoch 120/200\n",
            "7/7 [==============================] - 0s 21ms/step - loss: 0.0650 - val_loss: 0.0727\n",
            "Epoch 121/200\n",
            "7/7 [==============================] - 0s 22ms/step - loss: 0.0648 - val_loss: 0.0722\n",
            "Epoch 122/200\n",
            "7/7 [==============================] - 0s 24ms/step - loss: 0.0644 - val_loss: 0.0716\n",
            "Epoch 123/200\n",
            "7/7 [==============================] - 0s 22ms/step - loss: 0.0642 - val_loss: 0.0712\n",
            "Epoch 124/200\n",
            "7/7 [==============================] - 0s 23ms/step - loss: 0.0639 - val_loss: 0.0708\n",
            "Epoch 125/200\n",
            "7/7 [==============================] - 0s 24ms/step - loss: 0.0636 - val_loss: 0.0702\n",
            "Epoch 126/200\n",
            "7/7 [==============================] - 0s 24ms/step - loss: 0.0633 - val_loss: 0.0698\n",
            "Epoch 127/200\n",
            "7/7 [==============================] - 0s 22ms/step - loss: 0.0631 - val_loss: 0.0695\n",
            "Epoch 128/200\n",
            "7/7 [==============================] - 0s 22ms/step - loss: 0.0628 - val_loss: 0.0690\n",
            "Epoch 129/200\n",
            "7/7 [==============================] - 0s 21ms/step - loss: 0.0626 - val_loss: 0.0685\n",
            "Epoch 130/200\n",
            "7/7 [==============================] - 0s 22ms/step - loss: 0.0624 - val_loss: 0.0682\n",
            "Epoch 131/200\n",
            "7/7 [==============================] - 0s 24ms/step - loss: 0.0622 - val_loss: 0.0678\n",
            "Epoch 132/200\n",
            "7/7 [==============================] - 0s 24ms/step - loss: 0.0620 - val_loss: 0.0675\n",
            "Epoch 133/200\n",
            "7/7 [==============================] - 0s 23ms/step - loss: 0.0618 - val_loss: 0.0670\n",
            "Epoch 134/200\n",
            "7/7 [==============================] - 0s 19ms/step - loss: 0.0616 - val_loss: 0.0668\n",
            "Epoch 135/200\n",
            "7/7 [==============================] - 0s 18ms/step - loss: 0.0615 - val_loss: 0.0663\n",
            "Epoch 136/200\n",
            "7/7 [==============================] - 0s 18ms/step - loss: 0.0613 - val_loss: 0.0660\n",
            "Epoch 137/200\n",
            "7/7 [==============================] - 0s 18ms/step - loss: 0.0611 - val_loss: 0.0656\n",
            "Epoch 138/200\n",
            "7/7 [==============================] - 0s 20ms/step - loss: 0.0609 - val_loss: 0.0653\n",
            "Epoch 139/200\n",
            "7/7 [==============================] - 0s 18ms/step - loss: 0.0608 - val_loss: 0.0649\n",
            "Epoch 140/200\n",
            "7/7 [==============================] - 0s 18ms/step - loss: 0.0607 - val_loss: 0.0646\n",
            "Epoch 141/200\n",
            "7/7 [==============================] - 0s 18ms/step - loss: 0.0605 - val_loss: 0.0644\n",
            "Epoch 142/200\n",
            "7/7 [==============================] - 0s 18ms/step - loss: 0.0604 - val_loss: 0.0641\n",
            "Epoch 143/200\n",
            "7/7 [==============================] - 0s 18ms/step - loss: 0.0602 - val_loss: 0.0638\n",
            "Epoch 144/200\n",
            "7/7 [==============================] - 0s 18ms/step - loss: 0.0601 - val_loss: 0.0635\n",
            "Epoch 145/200\n",
            "7/7 [==============================] - 0s 18ms/step - loss: 0.0600 - val_loss: 0.0633\n",
            "Epoch 146/200\n",
            "7/7 [==============================] - 0s 19ms/step - loss: 0.0599 - val_loss: 0.0630\n",
            "Epoch 147/200\n",
            "7/7 [==============================] - 0s 19ms/step - loss: 0.0598 - val_loss: 0.0629\n",
            "Epoch 148/200\n",
            "7/7 [==============================] - 0s 18ms/step - loss: 0.0597 - val_loss: 0.0626\n",
            "Epoch 149/200\n",
            "7/7 [==============================] - 0s 18ms/step - loss: 0.0596 - val_loss: 0.0624\n",
            "Epoch 150/200\n",
            "7/7 [==============================] - 0s 19ms/step - loss: 0.0595 - val_loss: 0.0622\n",
            "Epoch 151/200\n",
            "7/7 [==============================] - 0s 18ms/step - loss: 0.0594 - val_loss: 0.0621\n",
            "Epoch 152/200\n",
            "7/7 [==============================] - 0s 18ms/step - loss: 0.0593 - val_loss: 0.0619\n",
            "Epoch 153/200\n",
            "7/7 [==============================] - 0s 17ms/step - loss: 0.0592 - val_loss: 0.0618\n",
            "Epoch 154/200\n",
            "7/7 [==============================] - 0s 18ms/step - loss: 0.0591 - val_loss: 0.0616\n",
            "Epoch 155/200\n",
            "7/7 [==============================] - 0s 19ms/step - loss: 0.0590 - val_loss: 0.0615\n",
            "Epoch 156/200\n",
            "7/7 [==============================] - 0s 19ms/step - loss: 0.0589 - val_loss: 0.0614\n",
            "Epoch 157/200\n",
            "7/7 [==============================] - 0s 19ms/step - loss: 0.0588 - val_loss: 0.0612\n",
            "Epoch 158/200\n",
            "7/7 [==============================] - 0s 18ms/step - loss: 0.0587 - val_loss: 0.0611\n",
            "Epoch 159/200\n",
            "7/7 [==============================] - 0s 18ms/step - loss: 0.0586 - val_loss: 0.0610\n",
            "Epoch 160/200\n",
            "7/7 [==============================] - 0s 17ms/step - loss: 0.0586 - val_loss: 0.0609\n",
            "Epoch 161/200\n",
            "7/7 [==============================] - 0s 19ms/step - loss: 0.0585 - val_loss: 0.0608\n",
            "Epoch 162/200\n",
            "7/7 [==============================] - 0s 17ms/step - loss: 0.0584 - val_loss: 0.0607\n",
            "Epoch 163/200\n",
            "7/7 [==============================] - 0s 19ms/step - loss: 0.0584 - val_loss: 0.0606\n",
            "Epoch 164/200\n",
            "7/7 [==============================] - 0s 18ms/step - loss: 0.0583 - val_loss: 0.0605\n",
            "Epoch 165/200\n",
            "7/7 [==============================] - 0s 17ms/step - loss: 0.0582 - val_loss: 0.0604\n",
            "Epoch 166/200\n",
            "7/7 [==============================] - 0s 18ms/step - loss: 0.0582 - val_loss: 0.0603\n",
            "Epoch 167/200\n",
            "7/7 [==============================] - 0s 18ms/step - loss: 0.0581 - val_loss: 0.0602\n",
            "Epoch 168/200\n",
            "7/7 [==============================] - 0s 19ms/step - loss: 0.0581 - val_loss: 0.0602\n",
            "Epoch 169/200\n",
            "7/7 [==============================] - 0s 18ms/step - loss: 0.0580 - val_loss: 0.0601\n",
            "Epoch 170/200\n",
            "7/7 [==============================] - 0s 18ms/step - loss: 0.0580 - val_loss: 0.0600\n",
            "Epoch 171/200\n",
            "7/7 [==============================] - 0s 18ms/step - loss: 0.0579 - val_loss: 0.0600\n",
            "Epoch 172/200\n",
            "7/7 [==============================] - 0s 17ms/step - loss: 0.0578 - val_loss: 0.0599\n",
            "Epoch 173/200\n",
            "7/7 [==============================] - 0s 18ms/step - loss: 0.0578 - val_loss: 0.0599\n",
            "Epoch 174/200\n",
            "7/7 [==============================] - 0s 17ms/step - loss: 0.0577 - val_loss: 0.0598\n",
            "Epoch 175/200\n",
            "7/7 [==============================] - 0s 18ms/step - loss: 0.0576 - val_loss: 0.0597\n",
            "Epoch 176/200\n",
            "7/7 [==============================] - 0s 17ms/step - loss: 0.0576 - val_loss: 0.0597\n",
            "Epoch 177/200\n",
            "7/7 [==============================] - 0s 18ms/step - loss: 0.0575 - val_loss: 0.0596\n",
            "Epoch 178/200\n",
            "7/7 [==============================] - 0s 18ms/step - loss: 0.0575 - val_loss: 0.0596\n",
            "Epoch 179/200\n",
            "7/7 [==============================] - 0s 18ms/step - loss: 0.0575 - val_loss: 0.0595\n",
            "Epoch 180/200\n",
            "7/7 [==============================] - 0s 21ms/step - loss: 0.0574 - val_loss: 0.0595\n",
            "Epoch 181/200\n",
            "7/7 [==============================] - 0s 18ms/step - loss: 0.0574 - val_loss: 0.0594\n",
            "Epoch 182/200\n",
            "7/7 [==============================] - 0s 18ms/step - loss: 0.0573 - val_loss: 0.0594\n",
            "Epoch 183/200\n",
            "7/7 [==============================] - 0s 18ms/step - loss: 0.0573 - val_loss: 0.0593\n",
            "Epoch 184/200\n",
            "7/7 [==============================] - 0s 18ms/step - loss: 0.0572 - val_loss: 0.0593\n",
            "Epoch 185/200\n",
            "7/7 [==============================] - 0s 17ms/step - loss: 0.0572 - val_loss: 0.0592\n",
            "Epoch 186/200\n",
            "7/7 [==============================] - 0s 19ms/step - loss: 0.0571 - val_loss: 0.0592\n",
            "Epoch 187/200\n",
            "7/7 [==============================] - 0s 18ms/step - loss: 0.0571 - val_loss: 0.0592\n",
            "Epoch 188/200\n",
            "7/7 [==============================] - 0s 19ms/step - loss: 0.0571 - val_loss: 0.0591\n",
            "Epoch 189/200\n",
            "7/7 [==============================] - 0s 18ms/step - loss: 0.0570 - val_loss: 0.0591\n",
            "Epoch 190/200\n",
            "7/7 [==============================] - 0s 17ms/step - loss: 0.0570 - val_loss: 0.0590\n",
            "Epoch 191/200\n",
            "7/7 [==============================] - 0s 18ms/step - loss: 0.0569 - val_loss: 0.0590\n",
            "Epoch 192/200\n",
            "7/7 [==============================] - 0s 19ms/step - loss: 0.0570 - val_loss: 0.0590\n",
            "Epoch 193/200\n",
            "7/7 [==============================] - 0s 18ms/step - loss: 0.0569 - val_loss: 0.0589\n",
            "Epoch 194/200\n",
            "7/7 [==============================] - 0s 19ms/step - loss: 0.0568 - val_loss: 0.0589\n",
            "Epoch 195/200\n",
            "7/7 [==============================] - 0s 18ms/step - loss: 0.0568 - val_loss: 0.0589\n",
            "Epoch 196/200\n",
            "7/7 [==============================] - 0s 17ms/step - loss: 0.0568 - val_loss: 0.0588\n",
            "Epoch 197/200\n",
            "7/7 [==============================] - 0s 18ms/step - loss: 0.0568 - val_loss: 0.0588\n",
            "Epoch 198/200\n",
            "7/7 [==============================] - 0s 17ms/step - loss: 0.0567 - val_loss: 0.0588\n",
            "Epoch 199/200\n",
            "7/7 [==============================] - 0s 19ms/step - loss: 0.0568 - val_loss: 0.0588\n",
            "Epoch 200/200\n",
            "7/7 [==============================] - 0s 18ms/step - loss: 0.0567 - val_loss: 0.0587\n"
          ]
        }
      ]
    },
    {
      "cell_type": "code",
      "source": [
        "loss = merge_history.history['loss']\n",
        "val_loss = merge_history.history['val_loss']\n",
        "\n",
        "epochs = range(1, len(loss) + 1)\n",
        "\n",
        "plt.figure()\n",
        "\n",
        "plt.plot(epochs, loss, 'b', label='Training loss')\n",
        "plt.plot(epochs, val_loss, 'r', label='Validation loss')\n",
        "plt.title('Training and validation loss')\n",
        "plt.legend()\n",
        "\n",
        "plt.show()"
      ],
      "metadata": {
        "colab": {
          "base_uri": "https://localhost:8080/",
          "height": 545
        },
        "id": "GsofjqT5U9Ra",
        "outputId": "4e6f5fa2-e6c4-4103-b84d-aef8bbfd6e51"
      },
      "execution_count": null,
      "outputs": [
        {
          "output_type": "display_data",
          "data": {
            "text/plain": [
              "<Figure size 1200x600 with 1 Axes>"
            ],
            "image/png": "[encoded data removed]"
          },
          "metadata": {}
        }
      ]
    },
    {
      "cell_type": "markdown",
      "source": [
        "# NOW WE TEST FOR RECOGNITION"
      ],
      "metadata": {
        "id": "rftWkBbpXGG9"
      }
    },
    {
      "cell_type": "code",
      "source": [
        "images = None"
      ],
      "metadata": {
        "id": "NnJoJ5aLW30D"
      },
      "execution_count": null,
      "outputs": []
    },
    {
      "cell_type": "code",
      "source": [
        "merge.save('/content/drive/MyDrive/merge_casia.h5')"
      ],
      "metadata": {
        "id": "YMQ3X7aQYkb1"
      },
      "execution_count": null,
      "outputs": []
    },
    {
      "cell_type": "code",
      "source": [],
      "metadata": {
        "id": "-nlGr0nfaLUp"
      },
      "execution_count": null,
      "outputs": []
    }
  ]
}