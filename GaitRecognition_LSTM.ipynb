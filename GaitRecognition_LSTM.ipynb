{
  "nbformat": 4,
  "nbformat_minor": 0,
  "metadata": {
    "colab": {
      "provenance": []
    },
    "kernelspec": {
      "name": "python3",
      "display_name": "Python 3"
    },
    "language_info": {
      "name": "python"
    },
    "accelerator": "GPU",
    "gpuClass": "standard"
  },
  "cells": [
    {
      "cell_type": "code",
      "execution_count": null,
      "metadata": {
        "colab": {
          "base_uri": "https://localhost:8080/"
        },
        "id": "CYQrRhilheU5",
        "outputId": "7b6026e3-91ad-4d54-c451-58075f0d38da"
      },
      "outputs": [
        {
          "output_type": "stream",
          "name": "stdout",
          "text": [
            "Mounted at /content/drive\n"
          ]
        }
      ],
      "source": [
        "from google.colab import drive\n",
        "drive.mount('/content/drive', force_remount=True)"
      ]
    },
    {
      "cell_type": "code",
      "source": [
        "import numpy as np\n",
        "import pandas as pd\n",
        "import matplotlib.pyplot as plt\n",
        "from matplotlib.ticker import FormatStrFormatter\n",
        "import seaborn as sns\n",
        "sns.set_style(\n",
        "    style='darkgrid', \n",
        "    rc={'axes.facecolor': '.9', 'grid.color': '.8'}\n",
        ")\n",
        "#sns.set_palette(palette='deep')\n",
        "#sns_c = sns.color_palette(palette='deep')\n",
        "%matplotlib inline\n",
        "plt.rcParams['figure.figsize'] = [12, 6]\n",
        "plt.rcParams['figure.dpi'] = 100"
      ],
      "metadata": {
        "id": "tVoSZzkahwAZ"
      },
      "execution_count": null,
      "outputs": []
    },
    {
      "cell_type": "code",
      "source": [
        "import os\n",
        "import numpy as np\n",
        "import matplotlib.pyplot as plt\n",
        "from imageio import imread\n",
        "from skimage.transform import resize\n",
        "import numpy as np\n",
        "from PIL import Image"
      ],
      "metadata": {
        "id": "v4Xi6nESh-c8"
      },
      "execution_count": null,
      "outputs": []
    },
    {
      "cell_type": "code",
      "source": [
        "def mass_center(img,is_round=True):\n",
        "    Y = img.mean(axis=1)\n",
        "    X = img.mean(axis=0)\n",
        "    Y_ = np.sum(np.arange(Y.shape[0]) * Y)/np.sum(Y)\n",
        "    X_ = np.sum(np.arange(X.shape[0]) * X)/np.sum(X)\n",
        "    if is_round:\n",
        "        return int(round(X_)),int(round(Y_))\n",
        "    return X_,Y_\n",
        "\n",
        "def image_extract(img,newsize):\n",
        "    x_s = np.where(img.mean(axis=0)!=0)[0].min()\n",
        "    x_e = np.where(img.mean(axis=0)!=0)[0].max()\n",
        "    \n",
        "    y_s = np.where(img.mean(axis=1)!=0)[0].min()\n",
        "    y_e = np.where(img.mean(axis=1)!=0)[0].max()\n",
        "    \n",
        "    x_c,_ = mass_center(img)\n",
        "    x_s = x_c-newsize[1]//2\n",
        "    x_e = x_c+newsize[1]//2\n",
        "    img = img[y_s:y_e,x_s if x_s>0 else 0:x_e if x_e<img.shape[1] else img.shape[1]]\n",
        "    return np.asarray(Image.fromarray(img).resize(size=newsize).convert('L'))"
      ],
      "metadata": {
        "id": "8XeY-WJHh_yR"
      },
      "execution_count": null,
      "outputs": []
    },
    {
      "cell_type": "code",
      "source": [
        "global input_time_step\n",
        "global output_time_step\n",
        "input_time_step=5\n",
        "output_time_step=1"
      ],
      "metadata": {
        "id": "B7elf0ziiDJT"
      },
      "execution_count": null,
      "outputs": []
    },
    {
      "cell_type": "code",
      "source": [
        "def create_dataset(dataset, time_step=1, output_time_step=5):\n",
        "  X_for, X_back, Y = [], [], []\n",
        "  for i in range(time_step, len(dataset)-5):\n",
        "    a = dataset[(i-time_step):i]\n",
        "    b = dataset[(i+1):(i+6)][::-1]\n",
        "    X_for.append(a)\n",
        "    X_back.append(b)\n",
        "    Y.append(dataset[i][:])\n",
        "  return np.array(X_for), np.array(X_back), np.array(Y)"
      ],
      "metadata": {
        "id": "INOhhUFfiGNE"
      },
      "execution_count": null,
      "outputs": []
    },
    {
      "cell_type": "code",
      "source": [
        "def img_extract(img):\n",
        "  return np.asarray(Image.fromarray(img).convert('L'))"
      ],
      "metadata": {
        "id": "RpUIEQfEiSdO"
      },
      "execution_count": null,
      "outputs": []
    },
    {
      "cell_type": "code",
      "source": [
        "import tensorflow as tf"
      ],
      "metadata": {
        "id": "AdHyI-ftiUiF"
      },
      "execution_count": null,
      "outputs": []
    },
    {
      "cell_type": "code",
      "source": [
        "def SSIM(y_true, y_pred):\n",
        "  return 1 - tf.reduce_mean(tf.image.ssim(y_true, y_pred, max_val=1.0, filter_size=3))"
      ],
      "metadata": {
        "id": "PBUjqsg9iWcE"
      },
      "execution_count": null,
      "outputs": []
    },
    {
      "cell_type": "markdown",
      "source": [
        "# Data for training"
      ],
      "metadata": {
        "id": "tJdZ7MDDirXH"
      }
    },
    {
      "cell_type": "code",
      "source": [
        "subjects = ['001', '036', '069', '072', '078']"
      ],
      "metadata": {
        "id": "onEQzfXIiYs4"
      },
      "execution_count": null,
      "outputs": []
    },
    {
      "cell_type": "code",
      "source": [
        "images = []\n",
        "\n",
        "for id in subjects:\n",
        "  path = f'/content/drive/MyDrive/CASIA/{id}/nm-01/090/'\n",
        "  files = os.listdir(path)\n",
        "  files.sort()\n",
        "  imgs = [imread(path+f) for f in files]\n",
        "  imgs = [image_extract(i,(200,150)) for i in imgs]\n",
        "  imgs = np.minimum(imgs,1)\n",
        "  #print(type(images)) ---> numpy.ndarray\n",
        "  print(imgs.shape)\n",
        "  images.append(imgs)"
      ],
      "metadata": {
        "colab": {
          "base_uri": "https://localhost:8080/"
        },
        "id": "S65iwAGQmiHW",
        "outputId": "afeef8e2-dd3f-4c9e-d244-388e08f675c5"
      },
      "execution_count": null,
      "outputs": [
        {
          "output_type": "stream",
          "name": "stderr",
          "text": [
            "<ipython-input-11-5c161363674e>:7: DeprecationWarning: Starting with ImageIO v3 the behavior of this function will switch to that of iio.v3.imread. To keep the current behavior (and make this warning disappear) use `import imageio.v2 as imageio` or call `imageio.v2.imread` directly.\n",
            "  imgs = [imread(path+f) for f in files]\n"
          ]
        },
        {
          "output_type": "stream",
          "name": "stdout",
          "text": [
            "(56, 150, 200)\n",
            "(60, 150, 200)\n",
            "(58, 150, 200)\n",
            "(61, 150, 200)\n",
            "(59, 150, 200)\n"
          ]
        }
      ]
    },
    {
      "cell_type": "code",
      "source": [
        "for i in images:\n",
        "  print(i.shape)"
      ],
      "metadata": {
        "colab": {
          "base_uri": "https://localhost:8080/"
        },
        "id": "BuUjTjqBmnGo",
        "outputId": "24012043-9ce7-4245-f9a7-60710b54b07b"
      },
      "execution_count": null,
      "outputs": [
        {
          "output_type": "stream",
          "name": "stdout",
          "text": [
            "(56, 150, 200)\n",
            "(60, 150, 200)\n",
            "(58, 150, 200)\n",
            "(61, 150, 200)\n",
            "(59, 150, 200)\n"
          ]
        }
      ]
    },
    {
      "cell_type": "markdown",
      "source": [
        "## Loading the models"
      ],
      "metadata": {
        "id": "p_hR1NqAo8mY"
      }
    },
    {
      "cell_type": "code",
      "source": [
        "encoder = tf.keras.models.load_model('/content/drive/MyDrive/enc_casia.h5')"
      ],
      "metadata": {
        "id": "a6gMpRzjnJ5A"
      },
      "execution_count": null,
      "outputs": []
    },
    {
      "cell_type": "code",
      "source": [
        "decoder = tf.keras.models.load_model('/content/drive/MyDrive/dec_casia.h5')"
      ],
      "metadata": {
        "id": "YTBtaZXzpAnw"
      },
      "execution_count": null,
      "outputs": []
    },
    {
      "cell_type": "code",
      "source": [
        "enc_images = []"
      ],
      "metadata": {
        "id": "IjY8cIevpC9Z"
      },
      "execution_count": null,
      "outputs": []
    },
    {
      "cell_type": "code",
      "source": [
        "for i in range(len(images)):\n",
        "  enc_images.append(np.round(encoder.predict(np.expand_dims(images[i], axis=3))))"
      ],
      "metadata": {
        "colab": {
          "base_uri": "https://localhost:8080/"
        },
        "id": "zbqze6LlpEkC",
        "outputId": "1e4fe69e-acfe-4010-8086-4c1d04b435c3"
      },
      "execution_count": null,
      "outputs": [
        {
          "output_type": "stream",
          "name": "stdout",
          "text": [
            "2/2 [==============================] - 8s 116ms/step\n",
            "2/2 [==============================] - 0s 122ms/step\n",
            "2/2 [==============================] - 0s 106ms/step\n",
            "2/2 [==============================] - 0s 118ms/step\n",
            "2/2 [==============================] - 0s 197ms/step\n"
          ]
        }
      ]
    },
    {
      "cell_type": "code",
      "source": [
        "len(enc_images)"
      ],
      "metadata": {
        "colab": {
          "base_uri": "https://localhost:8080/"
        },
        "id": "3yqrvlrWpK0H",
        "outputId": "eadf9803-c573-4116-9bc3-75cc62e78432"
      },
      "execution_count": null,
      "outputs": [
        {
          "output_type": "execute_result",
          "data": {
            "text/plain": [
              "5"
            ]
          },
          "metadata": {},
          "execution_count": 17
        }
      ]
    },
    {
      "cell_type": "code",
      "source": [
        "for i in enc_images:\n",
        "  print(i.shape)"
      ],
      "metadata": {
        "colab": {
          "base_uri": "https://localhost:8080/"
        },
        "id": "NTfBnwa7pPEc",
        "outputId": "ec6a725a-cffa-43cc-f835-4cf5257567a2"
      },
      "execution_count": null,
      "outputs": [
        {
          "output_type": "stream",
          "name": "stdout",
          "text": [
            "(56, 38, 50, 8)\n",
            "(60, 38, 50, 8)\n",
            "(58, 38, 50, 8)\n",
            "(61, 38, 50, 8)\n",
            "(59, 38, 50, 8)\n"
          ]
        }
      ]
    },
    {
      "cell_type": "code",
      "source": [
        "input_shape = (input_time_step, 15200)"
      ],
      "metadata": {
        "id": "u0K0PsgdpRlU"
      },
      "execution_count": null,
      "outputs": []
    },
    {
      "cell_type": "code",
      "source": [
        "X_for = []\n",
        "X_back = []\n",
        "Y = []\n",
        "\n",
        "for i in range(len(enc_images)):\n",
        "  x_f, x_b, y = create_dataset(enc_images[i], input_time_step, output_time_step)\n",
        "  X_for.extend(x_f.reshape(x_f.shape[0], 5, 15200))\n",
        "  X_back.extend(x_b.reshape(x_b.shape[0], 5, 15200))\n",
        "  Y.extend(y.reshape(y.shape[0], 15200))"
      ],
      "metadata": {
        "id": "2Cl6Oc2wprQb"
      },
      "execution_count": null,
      "outputs": []
    },
    {
      "cell_type": "code",
      "source": [
        "len(X_for)"
      ],
      "metadata": {
        "colab": {
          "base_uri": "https://localhost:8080/"
        },
        "id": "ExijiadLp5oA",
        "outputId": "f700529c-1ecd-4711-b378-9a1f64caa07c"
      },
      "execution_count": null,
      "outputs": [
        {
          "output_type": "execute_result",
          "data": {
            "text/plain": [
              "244"
            ]
          },
          "metadata": {},
          "execution_count": 24
        }
      ]
    },
    {
      "cell_type": "code",
      "source": [
        "X_for[0].shape, Y[0].shape"
      ],
      "metadata": {
        "colab": {
          "base_uri": "https://localhost:8080/"
        },
        "id": "Abwp9ZXGqCAi",
        "outputId": "9a737312-abc7-4843-8aa4-b82433fc717c"
      },
      "execution_count": null,
      "outputs": [
        {
          "output_type": "execute_result",
          "data": {
            "text/plain": [
              "((5, 15200), (15200,))"
            ]
          },
          "metadata": {},
          "execution_count": 25
        }
      ]
    },
    {
      "cell_type": "code",
      "source": [
        "import random"
      ],
      "metadata": {
        "id": "TJtQapM0qKov"
      },
      "execution_count": null,
      "outputs": []
    },
    {
      "cell_type": "code",
      "source": [
        "temp = list(zip(X_for, X_back, Y))\n",
        "random.shuffle(temp)\n",
        "X_for, X_back, Y = zip(*temp)\n",
        "X_for, X_back, Y = list(X_for), list(X_back), list(Y)"
      ],
      "metadata": {
        "id": "4qEoDGNhqNCK"
      },
      "execution_count": null,
      "outputs": []
    },
    {
      "cell_type": "markdown",
      "source": [
        "# Architecture for forward and backward LSTM"
      ],
      "metadata": {
        "id": "3Bb4sEB2qSu7"
      }
    },
    {
      "cell_type": "code",
      "source": [
        "from tensorflow.keras.layers import LSTM, Input, Dropout, Dense, Bidirectional, Conv2D\n",
        "from tensorflow.keras.models import Model\n",
        "from tensorflow.keras.optimizers import Adam"
      ],
      "metadata": {
        "id": "Wpuy3j2HqOd9"
      },
      "execution_count": null,
      "outputs": []
    },
    {
      "cell_type": "code",
      "source": [
        "dim = 15200"
      ],
      "metadata": {
        "id": "dSzjhdaSqP1d"
      },
      "execution_count": null,
      "outputs": []
    },
    {
      "cell_type": "markdown",
      "source": [
        "## LSTM forward"
      ],
      "metadata": {
        "id": "kA_nB9-TqWuM"
      }
    },
    {
      "cell_type": "code",
      "source": [
        "input1 = Input(shape=input_shape, dtype='float32', name='vector_data')\n",
        "print(input1.shape)\n",
        "\n",
        "x1 = LSTM(units=1024,name='LSTM_1', return_sequences=True)(input1)\n",
        "print(x1.shape)\n",
        "\n",
        "x1 = Dropout(rate=0.2,name='Dropout_1')(x1)\n",
        "\n",
        "x1 = LSTM(units=1024,name='LSTM_2')(x1)\n",
        "\n",
        "x1 = Dropout(rate=0.2,name='Dropout_2')(x1)\n",
        "print(x1.shape)\n",
        "\n",
        "x1 = Dense(units=dim,name='dense_1', activation=\"relu\")(x1)\n",
        "print(x1.shape)\n",
        "\n",
        "lstm_for = Model(input1, x1)"
      ],
      "metadata": {
        "colab": {
          "base_uri": "https://localhost:8080/"
        },
        "id": "SYG6AhVHqSNm",
        "outputId": "04b6a67a-5565-42bd-df3a-2e042e359fd8"
      },
      "execution_count": null,
      "outputs": [
        {
          "output_type": "stream",
          "name": "stdout",
          "text": [
            "(None, 5, 15200)\n",
            "(None, 5, 1024)\n",
            "(None, 1024)\n",
            "(None, 15200)\n"
          ]
        }
      ]
    },
    {
      "cell_type": "markdown",
      "source": [
        "## LSTM backward"
      ],
      "metadata": {
        "id": "uwEJxKUNqe7l"
      }
    },
    {
      "cell_type": "code",
      "source": [
        "input2 = Input(shape=input_shape, dtype='float32', name='vector_data')\n",
        "print(input2.shape)\n",
        "\n",
        "x2 = LSTM(units=1024,name='LSTM_3', return_sequences=True)(input2)\n",
        "print(x2.shape)\n",
        "\n",
        "x2 = Dropout(rate=0.2,name='Dropout_3')(x2)\n",
        "\n",
        "x2 = LSTM(units=1024,name='LSTM_4')(x2)\n",
        "\n",
        "x2 = Dropout(rate=0.2,name='Dropout_4')(x2)\n",
        "print(x2.shape)\n",
        "\n",
        "x2 = Dense(units=dim,name='dense_2', activation=\"relu\")(x2)\n",
        "print(x2.shape)\n",
        "\n",
        "lstm_back= Model(input2, x2)"
      ],
      "metadata": {
        "colab": {
          "base_uri": "https://localhost:8080/"
        },
        "id": "CNiDN_p5qckr",
        "outputId": "6223bcda-8218-4207-91e8-f9245ec5cc2e"
      },
      "execution_count": null,
      "outputs": [
        {
          "output_type": "stream",
          "name": "stdout",
          "text": [
            "(None, 5, 15200)\n",
            "(None, 5, 1024)\n",
            "(None, 1024)\n",
            "(None, 15200)\n"
          ]
        }
      ]
    },
    {
      "cell_type": "code",
      "source": [
        "lstm_for.compile(optimizer='Adamax', loss='mse')"
      ],
      "metadata": {
        "id": "_GqlcJshqiej"
      },
      "execution_count": null,
      "outputs": []
    },
    {
      "cell_type": "code",
      "source": [
        "lstm_back.compile(optimizer='Adamax', loss='mse')"
      ],
      "metadata": {
        "id": "LtzTf8Xeqkah"
      },
      "execution_count": null,
      "outputs": []
    },
    {
      "cell_type": "code",
      "source": [
        "import tensorflow as tf\n",
        "def scheduler(epoch, lr):\n",
        "  if epoch%50== 0:\n",
        "    return lr*tf.math.exp(-0.1)\n",
        "  else:\n",
        "    return lr "
      ],
      "metadata": {
        "id": "maks2bbUqlm9"
      },
      "execution_count": null,
      "outputs": []
    },
    {
      "cell_type": "code",
      "source": [
        "from tensorflow.keras.callbacks import LearningRateScheduler"
      ],
      "metadata": {
        "id": "W6HZ9JKWqm7H"
      },
      "execution_count": null,
      "outputs": []
    },
    {
      "cell_type": "code",
      "source": [
        "X_for = np.array(X_for)\n",
        "X_back = np.array(X_back)\n",
        "Y = np.array(Y)"
      ],
      "metadata": {
        "id": "-Ryxtzc_qoOe"
      },
      "execution_count": null,
      "outputs": []
    },
    {
      "cell_type": "code",
      "source": [
        "X_for.shape, X_back.shape, Y.shape"
      ],
      "metadata": {
        "colab": {
          "base_uri": "https://localhost:8080/"
        },
        "id": "iEWjui_Jqpre",
        "outputId": "411ed4bf-b2c1-43d3-8bd2-51d19209edba"
      },
      "execution_count": null,
      "outputs": [
        {
          "output_type": "execute_result",
          "data": {
            "text/plain": [
              "((244, 5, 15200), (244, 5, 15200), (244, 15200))"
            ]
          },
          "metadata": {},
          "execution_count": 37
        }
      ]
    },
    {
      "cell_type": "code",
      "source": [
        "r1 = lstm_for.fit(\n",
        "  X_for, Y,\n",
        "  batch_size=128,\n",
        "  epochs=200\n",
        ")"
      ],
      "metadata": {
        "colab": {
          "base_uri": "https://localhost:8080/"
        },
        "id": "sDdzhkcuqrga",
        "outputId": "71e24a37-76c5-4867-e005-84cd37a73dbf"
      },
      "execution_count": null,
      "outputs": [
        {
          "output_type": "stream",
          "name": "stdout",
          "text": [
            "Epoch 1/200\n",
            "2/2 [==============================] - 6s 166ms/step - loss: 0.2720\n",
            "Epoch 2/200\n",
            "2/2 [==============================] - 0s 115ms/step - loss: 0.1540\n",
            "Epoch 3/200\n",
            "2/2 [==============================] - 0s 114ms/step - loss: 0.1227\n",
            "Epoch 4/200\n",
            "2/2 [==============================] - 0s 111ms/step - loss: 0.1178\n",
            "Epoch 5/200\n",
            "2/2 [==============================] - 0s 112ms/step - loss: 0.1156\n",
            "Epoch 6/200\n",
            "2/2 [==============================] - 0s 113ms/step - loss: 0.1107\n",
            "Epoch 7/200\n",
            "2/2 [==============================] - 0s 111ms/step - loss: 0.1072\n",
            "Epoch 8/200\n",
            "2/2 [==============================] - 0s 109ms/step - loss: 0.1044\n",
            "Epoch 9/200\n",
            "2/2 [==============================] - 0s 118ms/step - loss: 0.1024\n",
            "Epoch 10/200\n",
            "2/2 [==============================] - 0s 118ms/step - loss: 0.1007\n",
            "Epoch 11/200\n",
            "2/2 [==============================] - 0s 113ms/step - loss: 0.0992\n",
            "Epoch 12/200\n",
            "2/2 [==============================] - 0s 111ms/step - loss: 0.0976\n",
            "Epoch 13/200\n",
            "2/2 [==============================] - 0s 112ms/step - loss: 0.0960\n",
            "Epoch 14/200\n",
            "2/2 [==============================] - 0s 113ms/step - loss: 0.0942\n",
            "Epoch 15/200\n",
            "2/2 [==============================] - 0s 116ms/step - loss: 0.0925\n",
            "Epoch 16/200\n",
            "2/2 [==============================] - 0s 114ms/step - loss: 0.0909\n",
            "Epoch 17/200\n",
            "2/2 [==============================] - 0s 116ms/step - loss: 0.0891\n",
            "Epoch 18/200\n",
            "2/2 [==============================] - 0s 114ms/step - loss: 0.0875\n",
            "Epoch 19/200\n",
            "2/2 [==============================] - 0s 113ms/step - loss: 0.0861\n",
            "Epoch 20/200\n",
            "2/2 [==============================] - 0s 114ms/step - loss: 0.0841\n",
            "Epoch 21/200\n",
            "2/2 [==============================] - 0s 116ms/step - loss: 0.0826\n",
            "Epoch 22/200\n",
            "2/2 [==============================] - 0s 114ms/step - loss: 0.0809\n",
            "Epoch 23/200\n",
            "2/2 [==============================] - 0s 115ms/step - loss: 0.0791\n",
            "Epoch 24/200\n",
            "2/2 [==============================] - 0s 113ms/step - loss: 0.0772\n",
            "Epoch 25/200\n",
            "2/2 [==============================] - 0s 112ms/step - loss: 0.0750\n",
            "Epoch 26/200\n",
            "2/2 [==============================] - 0s 115ms/step - loss: 0.0732\n",
            "Epoch 27/200\n",
            "2/2 [==============================] - 0s 119ms/step - loss: 0.0713\n",
            "Epoch 28/200\n",
            "2/2 [==============================] - 0s 116ms/step - loss: 0.0695\n",
            "Epoch 29/200\n",
            "2/2 [==============================] - 0s 112ms/step - loss: 0.0678\n",
            "Epoch 30/200\n",
            "2/2 [==============================] - 0s 118ms/step - loss: 0.0659\n",
            "Epoch 31/200\n",
            "2/2 [==============================] - 0s 112ms/step - loss: 0.0650\n",
            "Epoch 32/200\n",
            "2/2 [==============================] - 0s 112ms/step - loss: 0.0635\n",
            "Epoch 33/200\n",
            "2/2 [==============================] - 0s 112ms/step - loss: 0.0626\n",
            "Epoch 34/200\n",
            "2/2 [==============================] - 0s 114ms/step - loss: 0.0617\n",
            "Epoch 35/200\n",
            "2/2 [==============================] - 0s 115ms/step - loss: 0.0609\n",
            "Epoch 36/200\n",
            "2/2 [==============================] - 0s 113ms/step - loss: 0.0601\n",
            "Epoch 37/200\n",
            "2/2 [==============================] - 0s 115ms/step - loss: 0.0593\n",
            "Epoch 38/200\n",
            "2/2 [==============================] - 0s 112ms/step - loss: 0.0587\n",
            "Epoch 39/200\n",
            "2/2 [==============================] - 0s 114ms/step - loss: 0.0580\n",
            "Epoch 40/200\n",
            "2/2 [==============================] - 0s 128ms/step - loss: 0.0573\n",
            "Epoch 41/200\n",
            "2/2 [==============================] - 0s 114ms/step - loss: 0.0569\n",
            "Epoch 42/200\n",
            "2/2 [==============================] - 0s 113ms/step - loss: 0.0559\n",
            "Epoch 43/200\n",
            "2/2 [==============================] - 0s 124ms/step - loss: 0.0554\n",
            "Epoch 44/200\n",
            "2/2 [==============================] - 0s 127ms/step - loss: 0.0548\n",
            "Epoch 45/200\n",
            "2/2 [==============================] - 0s 128ms/step - loss: 0.0542\n",
            "Epoch 46/200\n",
            "2/2 [==============================] - 0s 128ms/step - loss: 0.0536\n",
            "Epoch 47/200\n",
            "2/2 [==============================] - 0s 129ms/step - loss: 0.0531\n",
            "Epoch 48/200\n",
            "2/2 [==============================] - 0s 127ms/step - loss: 0.0529\n",
            "Epoch 49/200\n",
            "2/2 [==============================] - 0s 127ms/step - loss: 0.0523\n",
            "Epoch 50/200\n",
            "2/2 [==============================] - 0s 133ms/step - loss: 0.0515\n",
            "Epoch 51/200\n",
            "2/2 [==============================] - 0s 129ms/step - loss: 0.0512\n",
            "Epoch 52/200\n",
            "2/2 [==============================] - 0s 123ms/step - loss: 0.0509\n",
            "Epoch 53/200\n",
            "2/2 [==============================] - 0s 129ms/step - loss: 0.0504\n",
            "Epoch 54/200\n",
            "2/2 [==============================] - 0s 124ms/step - loss: 0.0498\n",
            "Epoch 55/200\n",
            "2/2 [==============================] - 0s 114ms/step - loss: 0.0494\n",
            "Epoch 56/200\n",
            "2/2 [==============================] - 0s 116ms/step - loss: 0.0490\n",
            "Epoch 57/200\n",
            "2/2 [==============================] - 0s 115ms/step - loss: 0.0488\n",
            "Epoch 58/200\n",
            "2/2 [==============================] - 0s 117ms/step - loss: 0.0485\n",
            "Epoch 59/200\n",
            "2/2 [==============================] - 0s 112ms/step - loss: 0.0479\n",
            "Epoch 60/200\n",
            "2/2 [==============================] - 0s 113ms/step - loss: 0.0475\n",
            "Epoch 61/200\n",
            "2/2 [==============================] - 0s 116ms/step - loss: 0.0472\n",
            "Epoch 62/200\n",
            "2/2 [==============================] - 0s 114ms/step - loss: 0.0469\n",
            "Epoch 63/200\n",
            "2/2 [==============================] - 0s 120ms/step - loss: 0.0466\n",
            "Epoch 64/200\n",
            "2/2 [==============================] - 0s 116ms/step - loss: 0.0463\n",
            "Epoch 65/200\n",
            "2/2 [==============================] - 0s 120ms/step - loss: 0.0460\n",
            "Epoch 66/200\n",
            "2/2 [==============================] - 0s 113ms/step - loss: 0.0455\n",
            "Epoch 67/200\n",
            "2/2 [==============================] - 0s 126ms/step - loss: 0.0452\n",
            "Epoch 68/200\n",
            "2/2 [==============================] - 0s 114ms/step - loss: 0.0449\n",
            "Epoch 69/200\n",
            "2/2 [==============================] - 0s 114ms/step - loss: 0.0445\n",
            "Epoch 70/200\n",
            "2/2 [==============================] - 0s 115ms/step - loss: 0.0443\n",
            "Epoch 71/200\n",
            "2/2 [==============================] - 0s 116ms/step - loss: 0.0440\n",
            "Epoch 72/200\n",
            "2/2 [==============================] - 0s 117ms/step - loss: 0.0437\n",
            "Epoch 73/200\n",
            "2/2 [==============================] - 0s 113ms/step - loss: 0.0436\n",
            "Epoch 74/200\n",
            "2/2 [==============================] - 0s 117ms/step - loss: 0.0431\n",
            "Epoch 75/200\n",
            "2/2 [==============================] - 0s 116ms/step - loss: 0.0429\n",
            "Epoch 76/200\n",
            "2/2 [==============================] - 0s 117ms/step - loss: 0.0427\n",
            "Epoch 77/200\n",
            "2/2 [==============================] - 0s 117ms/step - loss: 0.0423\n",
            "Epoch 78/200\n",
            "2/2 [==============================] - 0s 117ms/step - loss: 0.0420\n",
            "Epoch 79/200\n",
            "2/2 [==============================] - 0s 113ms/step - loss: 0.0418\n",
            "Epoch 80/200\n",
            "2/2 [==============================] - 0s 116ms/step - loss: 0.0414\n",
            "Epoch 81/200\n",
            "2/2 [==============================] - 0s 118ms/step - loss: 0.0411\n",
            "Epoch 82/200\n",
            "2/2 [==============================] - 0s 115ms/step - loss: 0.0410\n",
            "Epoch 83/200\n",
            "2/2 [==============================] - 0s 112ms/step - loss: 0.0405\n",
            "Epoch 84/200\n",
            "2/2 [==============================] - 0s 130ms/step - loss: 0.0403\n",
            "Epoch 85/200\n",
            "2/2 [==============================] - 0s 115ms/step - loss: 0.0400\n",
            "Epoch 86/200\n",
            "2/2 [==============================] - 0s 116ms/step - loss: 0.0398\n",
            "Epoch 87/200\n",
            "2/2 [==============================] - 0s 115ms/step - loss: 0.0396\n",
            "Epoch 88/200\n",
            "2/2 [==============================] - 0s 113ms/step - loss: 0.0394\n",
            "Epoch 89/200\n",
            "2/2 [==============================] - 0s 113ms/step - loss: 0.0391\n",
            "Epoch 90/200\n",
            "2/2 [==============================] - 0s 114ms/step - loss: 0.0390\n",
            "Epoch 91/200\n",
            "2/2 [==============================] - 0s 113ms/step - loss: 0.0386\n",
            "Epoch 92/200\n",
            "2/2 [==============================] - 0s 115ms/step - loss: 0.0383\n",
            "Epoch 93/200\n",
            "2/2 [==============================] - 0s 113ms/step - loss: 0.0381\n",
            "Epoch 94/200\n",
            "2/2 [==============================] - 0s 119ms/step - loss: 0.0379\n",
            "Epoch 95/200\n",
            "2/2 [==============================] - 0s 113ms/step - loss: 0.0377\n",
            "Epoch 96/200\n",
            "2/2 [==============================] - 0s 115ms/step - loss: 0.0374\n",
            "Epoch 97/200\n",
            "2/2 [==============================] - 0s 116ms/step - loss: 0.0373\n",
            "Epoch 98/200\n",
            "2/2 [==============================] - 0s 117ms/step - loss: 0.0371\n",
            "Epoch 99/200\n",
            "2/2 [==============================] - 0s 133ms/step - loss: 0.0366\n",
            "Epoch 100/200\n",
            "2/2 [==============================] - 0s 124ms/step - loss: 0.0364\n",
            "Epoch 101/200\n",
            "2/2 [==============================] - 0s 136ms/step - loss: 0.0361\n",
            "Epoch 102/200\n",
            "2/2 [==============================] - 0s 134ms/step - loss: 0.0360\n",
            "Epoch 103/200\n",
            "2/2 [==============================] - 0s 136ms/step - loss: 0.0357\n",
            "Epoch 104/200\n",
            "2/2 [==============================] - 0s 140ms/step - loss: 0.0356\n",
            "Epoch 105/200\n",
            "2/2 [==============================] - 0s 135ms/step - loss: 0.0354\n",
            "Epoch 106/200\n",
            "2/2 [==============================] - 0s 125ms/step - loss: 0.0352\n",
            "Epoch 107/200\n",
            "2/2 [==============================] - 0s 125ms/step - loss: 0.0350\n",
            "Epoch 108/200\n",
            "2/2 [==============================] - 0s 135ms/step - loss: 0.0349\n",
            "Epoch 109/200\n",
            "2/2 [==============================] - 0s 141ms/step - loss: 0.0346\n",
            "Epoch 110/200\n",
            "2/2 [==============================] - 0s 172ms/step - loss: 0.0344\n",
            "Epoch 111/200\n",
            "2/2 [==============================] - 0s 137ms/step - loss: 0.0344\n",
            "Epoch 112/200\n",
            "2/2 [==============================] - 0s 124ms/step - loss: 0.0342\n",
            "Epoch 113/200\n",
            "2/2 [==============================] - 0s 124ms/step - loss: 0.0337\n",
            "Epoch 114/200\n",
            "2/2 [==============================] - 0s 137ms/step - loss: 0.0337\n",
            "Epoch 115/200\n",
            "2/2 [==============================] - 0s 113ms/step - loss: 0.0336\n",
            "Epoch 116/200\n",
            "2/2 [==============================] - 0s 117ms/step - loss: 0.0332\n",
            "Epoch 117/200\n",
            "2/2 [==============================] - 0s 113ms/step - loss: 0.0330\n",
            "Epoch 118/200\n",
            "2/2 [==============================] - 0s 117ms/step - loss: 0.0330\n",
            "Epoch 119/200\n",
            "2/2 [==============================] - 0s 116ms/step - loss: 0.0327\n",
            "Epoch 120/200\n",
            "2/2 [==============================] - 0s 117ms/step - loss: 0.0326\n",
            "Epoch 121/200\n",
            "2/2 [==============================] - 0s 117ms/step - loss: 0.0325\n",
            "Epoch 122/200\n",
            "2/2 [==============================] - 0s 116ms/step - loss: 0.0324\n",
            "Epoch 123/200\n",
            "2/2 [==============================] - 0s 118ms/step - loss: 0.0321\n",
            "Epoch 124/200\n",
            "2/2 [==============================] - 0s 117ms/step - loss: 0.0318\n",
            "Epoch 125/200\n",
            "2/2 [==============================] - 0s 115ms/step - loss: 0.0316\n",
            "Epoch 126/200\n",
            "2/2 [==============================] - 0s 115ms/step - loss: 0.0317\n",
            "Epoch 127/200\n",
            "2/2 [==============================] - 0s 119ms/step - loss: 0.0315\n",
            "Epoch 128/200\n",
            "2/2 [==============================] - 0s 118ms/step - loss: 0.0314\n",
            "Epoch 129/200\n",
            "2/2 [==============================] - 0s 118ms/step - loss: 0.0310\n",
            "Epoch 130/200\n",
            "2/2 [==============================] - 0s 118ms/step - loss: 0.0310\n",
            "Epoch 131/200\n",
            "2/2 [==============================] - 0s 119ms/step - loss: 0.0309\n",
            "Epoch 132/200\n",
            "2/2 [==============================] - 0s 116ms/step - loss: 0.0307\n",
            "Epoch 133/200\n",
            "2/2 [==============================] - 0s 115ms/step - loss: 0.0305\n",
            "Epoch 134/200\n",
            "2/2 [==============================] - 0s 117ms/step - loss: 0.0304\n",
            "Epoch 135/200\n",
            "2/2 [==============================] - 0s 118ms/step - loss: 0.0303\n",
            "Epoch 136/200\n",
            "2/2 [==============================] - 0s 118ms/step - loss: 0.0303\n",
            "Epoch 137/200\n",
            "2/2 [==============================] - 0s 120ms/step - loss: 0.0299\n",
            "Epoch 138/200\n",
            "2/2 [==============================] - 0s 115ms/step - loss: 0.0299\n",
            "Epoch 139/200\n",
            "2/2 [==============================] - 0s 115ms/step - loss: 0.0300\n",
            "Epoch 140/200\n",
            "2/2 [==============================] - 0s 115ms/step - loss: 0.0296\n",
            "Epoch 141/200\n",
            "2/2 [==============================] - 0s 117ms/step - loss: 0.0296\n",
            "Epoch 142/200\n",
            "2/2 [==============================] - 0s 116ms/step - loss: 0.0295\n",
            "Epoch 143/200\n",
            "2/2 [==============================] - 0s 117ms/step - loss: 0.0294\n",
            "Epoch 144/200\n",
            "2/2 [==============================] - 0s 116ms/step - loss: 0.0291\n",
            "Epoch 145/200\n",
            "2/2 [==============================] - 0s 116ms/step - loss: 0.0291\n",
            "Epoch 146/200\n",
            "2/2 [==============================] - 0s 118ms/step - loss: 0.0290\n",
            "Epoch 147/200\n",
            "2/2 [==============================] - 0s 116ms/step - loss: 0.0288\n",
            "Epoch 148/200\n",
            "2/2 [==============================] - 0s 117ms/step - loss: 0.0286\n",
            "Epoch 149/200\n",
            "2/2 [==============================] - 0s 116ms/step - loss: 0.0286\n",
            "Epoch 150/200\n",
            "2/2 [==============================] - 0s 118ms/step - loss: 0.0284\n",
            "Epoch 151/200\n",
            "2/2 [==============================] - 0s 119ms/step - loss: 0.0283\n",
            "Epoch 152/200\n",
            "2/2 [==============================] - 0s 128ms/step - loss: 0.0282\n",
            "Epoch 153/200\n",
            "2/2 [==============================] - 0s 114ms/step - loss: 0.0281\n",
            "Epoch 154/200\n",
            "2/2 [==============================] - 0s 129ms/step - loss: 0.0281\n",
            "Epoch 155/200\n",
            "2/2 [==============================] - 0s 130ms/step - loss: 0.0276\n",
            "Epoch 156/200\n",
            "2/2 [==============================] - 0s 133ms/step - loss: 0.0277\n",
            "Epoch 157/200\n",
            "2/2 [==============================] - 0s 126ms/step - loss: 0.0274\n",
            "Epoch 158/200\n",
            "2/2 [==============================] - 0s 138ms/step - loss: 0.0276\n",
            "Epoch 159/200\n",
            "2/2 [==============================] - 0s 119ms/step - loss: 0.0273\n",
            "Epoch 160/200\n",
            "2/2 [==============================] - 0s 137ms/step - loss: 0.0274\n",
            "Epoch 161/200\n",
            "2/2 [==============================] - 0s 129ms/step - loss: 0.0272\n",
            "Epoch 162/200\n",
            "2/2 [==============================] - 0s 135ms/step - loss: 0.0271\n",
            "Epoch 163/200\n",
            "2/2 [==============================] - 0s 129ms/step - loss: 0.0269\n",
            "Epoch 164/200\n",
            "2/2 [==============================] - 0s 134ms/step - loss: 0.0271\n",
            "Epoch 165/200\n",
            "2/2 [==============================] - 0s 131ms/step - loss: 0.0267\n",
            "Epoch 166/200\n",
            "2/2 [==============================] - 0s 134ms/step - loss: 0.0266\n",
            "Epoch 167/200\n",
            "2/2 [==============================] - 0s 130ms/step - loss: 0.0265\n",
            "Epoch 168/200\n",
            "2/2 [==============================] - 0s 119ms/step - loss: 0.0264\n",
            "Epoch 169/200\n",
            "2/2 [==============================] - 0s 126ms/step - loss: 0.0263\n",
            "Epoch 170/200\n",
            "2/2 [==============================] - 0s 117ms/step - loss: 0.0263\n",
            "Epoch 171/200\n",
            "2/2 [==============================] - 0s 119ms/step - loss: 0.0262\n",
            "Epoch 172/200\n",
            "2/2 [==============================] - 0s 118ms/step - loss: 0.0262\n",
            "Epoch 173/200\n",
            "2/2 [==============================] - 0s 118ms/step - loss: 0.0259\n",
            "Epoch 174/200\n",
            "2/2 [==============================] - 0s 120ms/step - loss: 0.0258\n",
            "Epoch 175/200\n",
            "2/2 [==============================] - 0s 116ms/step - loss: 0.0258\n",
            "Epoch 176/200\n",
            "2/2 [==============================] - 0s 117ms/step - loss: 0.0255\n",
            "Epoch 177/200\n",
            "2/2 [==============================] - 0s 117ms/step - loss: 0.0256\n",
            "Epoch 178/200\n",
            "2/2 [==============================] - 0s 116ms/step - loss: 0.0255\n",
            "Epoch 179/200\n",
            "2/2 [==============================] - 0s 121ms/step - loss: 0.0254\n",
            "Epoch 180/200\n",
            "2/2 [==============================] - 0s 122ms/step - loss: 0.0253\n",
            "Epoch 181/200\n",
            "2/2 [==============================] - 0s 118ms/step - loss: 0.0253\n",
            "Epoch 182/200\n",
            "2/2 [==============================] - 0s 117ms/step - loss: 0.0250\n",
            "Epoch 183/200\n",
            "2/2 [==============================] - 0s 119ms/step - loss: 0.0251\n",
            "Epoch 184/200\n",
            "2/2 [==============================] - 0s 116ms/step - loss: 0.0248\n",
            "Epoch 185/200\n",
            "2/2 [==============================] - 0s 116ms/step - loss: 0.0247\n",
            "Epoch 186/200\n",
            "2/2 [==============================] - 0s 115ms/step - loss: 0.0248\n",
            "Epoch 187/200\n",
            "2/2 [==============================] - 0s 120ms/step - loss: 0.0245\n",
            "Epoch 188/200\n",
            "2/2 [==============================] - 0s 121ms/step - loss: 0.0246\n",
            "Epoch 189/200\n",
            "2/2 [==============================] - 0s 117ms/step - loss: 0.0244\n",
            "Epoch 190/200\n",
            "2/2 [==============================] - 0s 117ms/step - loss: 0.0244\n",
            "Epoch 191/200\n",
            "2/2 [==============================] - 0s 119ms/step - loss: 0.0242\n",
            "Epoch 192/200\n",
            "2/2 [==============================] - 0s 118ms/step - loss: 0.0242\n",
            "Epoch 193/200\n",
            "2/2 [==============================] - 0s 118ms/step - loss: 0.0242\n",
            "Epoch 194/200\n",
            "2/2 [==============================] - 0s 115ms/step - loss: 0.0242\n",
            "Epoch 195/200\n",
            "2/2 [==============================] - 0s 117ms/step - loss: 0.0241\n",
            "Epoch 196/200\n",
            "2/2 [==============================] - 0s 116ms/step - loss: 0.0239\n",
            "Epoch 197/200\n",
            "2/2 [==============================] - 0s 120ms/step - loss: 0.0238\n",
            "Epoch 198/200\n",
            "2/2 [==============================] - 0s 124ms/step - loss: 0.0238\n",
            "Epoch 199/200\n",
            "2/2 [==============================] - 0s 117ms/step - loss: 0.0236\n",
            "Epoch 200/200\n",
            "2/2 [==============================] - 0s 113ms/step - loss: 0.0234\n"
          ]
        }
      ]
    },
    {
      "cell_type": "code",
      "source": [
        "r2 = lstm_back.fit(\n",
        "  X_back, Y,\n",
        "  batch_size=128,\n",
        "  epochs=200\n",
        ")"
      ],
      "metadata": {
        "colab": {
          "base_uri": "https://localhost:8080/"
        },
        "id": "m6B4XiCnqvp1",
        "outputId": "e1c1b198-8338-44fe-c404-4674b9fcdcf1"
      },
      "execution_count": null,
      "outputs": [
        {
          "output_type": "stream",
          "name": "stdout",
          "text": [
            "Epoch 1/200\n",
            "2/2 [==============================] - 6s 159ms/step - loss: 0.2716\n",
            "Epoch 2/200\n",
            "2/2 [==============================] - 0s 113ms/step - loss: 0.1544\n",
            "Epoch 3/200\n",
            "2/2 [==============================] - 0s 110ms/step - loss: 0.1202\n",
            "Epoch 4/200\n",
            "2/2 [==============================] - 0s 111ms/step - loss: 0.1133\n",
            "Epoch 5/200\n",
            "2/2 [==============================] - 0s 112ms/step - loss: 0.1091\n",
            "Epoch 6/200\n",
            "2/2 [==============================] - 0s 113ms/step - loss: 0.1032\n",
            "Epoch 7/200\n",
            "2/2 [==============================] - 0s 112ms/step - loss: 0.1005\n",
            "Epoch 8/200\n",
            "2/2 [==============================] - 0s 114ms/step - loss: 0.0985\n",
            "Epoch 9/200\n",
            "2/2 [==============================] - 0s 113ms/step - loss: 0.0970\n",
            "Epoch 10/200\n",
            "2/2 [==============================] - 0s 112ms/step - loss: 0.0956\n",
            "Epoch 11/200\n",
            "2/2 [==============================] - 0s 113ms/step - loss: 0.0944\n",
            "Epoch 12/200\n",
            "2/2 [==============================] - 0s 113ms/step - loss: 0.0931\n",
            "Epoch 13/200\n",
            "2/2 [==============================] - 0s 113ms/step - loss: 0.0915\n",
            "Epoch 14/200\n",
            "2/2 [==============================] - 0s 112ms/step - loss: 0.0902\n",
            "Epoch 15/200\n",
            "2/2 [==============================] - 0s 114ms/step - loss: 0.0885\n",
            "Epoch 16/200\n",
            "2/2 [==============================] - 0s 110ms/step - loss: 0.0867\n",
            "Epoch 17/200\n",
            "2/2 [==============================] - 0s 118ms/step - loss: 0.0849\n",
            "Epoch 18/200\n",
            "2/2 [==============================] - 0s 114ms/step - loss: 0.0831\n",
            "Epoch 19/200\n",
            "2/2 [==============================] - 0s 113ms/step - loss: 0.0815\n",
            "Epoch 20/200\n",
            "2/2 [==============================] - 0s 119ms/step - loss: 0.0798\n",
            "Epoch 21/200\n",
            "2/2 [==============================] - 0s 113ms/step - loss: 0.0782\n",
            "Epoch 22/200\n",
            "2/2 [==============================] - 0s 113ms/step - loss: 0.0768\n",
            "Epoch 23/200\n",
            "2/2 [==============================] - 0s 113ms/step - loss: 0.0754\n",
            "Epoch 24/200\n",
            "2/2 [==============================] - 0s 114ms/step - loss: 0.0743\n",
            "Epoch 25/200\n",
            "2/2 [==============================] - 0s 115ms/step - loss: 0.0734\n",
            "Epoch 26/200\n",
            "2/2 [==============================] - 0s 115ms/step - loss: 0.0722\n",
            "Epoch 27/200\n",
            "2/2 [==============================] - 0s 113ms/step - loss: 0.0715\n",
            "Epoch 28/200\n",
            "2/2 [==============================] - 0s 116ms/step - loss: 0.0706\n",
            "Epoch 29/200\n",
            "2/2 [==============================] - 0s 115ms/step - loss: 0.0696\n",
            "Epoch 30/200\n",
            "2/2 [==============================] - 0s 112ms/step - loss: 0.0687\n",
            "Epoch 31/200\n",
            "2/2 [==============================] - 0s 116ms/step - loss: 0.0678\n",
            "Epoch 32/200\n",
            "2/2 [==============================] - 0s 116ms/step - loss: 0.0670\n",
            "Epoch 33/200\n",
            "2/2 [==============================] - 0s 114ms/step - loss: 0.0662\n",
            "Epoch 34/200\n",
            "2/2 [==============================] - 0s 113ms/step - loss: 0.0653\n",
            "Epoch 35/200\n",
            "2/2 [==============================] - 0s 114ms/step - loss: 0.0644\n",
            "Epoch 36/200\n",
            "2/2 [==============================] - 0s 115ms/step - loss: 0.0634\n",
            "Epoch 37/200\n",
            "2/2 [==============================] - 0s 113ms/step - loss: 0.0625\n",
            "Epoch 38/200\n",
            "2/2 [==============================] - 0s 114ms/step - loss: 0.0616\n",
            "Epoch 39/200\n",
            "2/2 [==============================] - 0s 127ms/step - loss: 0.0611\n",
            "Epoch 40/200\n",
            "2/2 [==============================] - 0s 129ms/step - loss: 0.0603\n",
            "Epoch 41/200\n",
            "2/2 [==============================] - 0s 133ms/step - loss: 0.0595\n",
            "Epoch 42/200\n",
            "2/2 [==============================] - 0s 131ms/step - loss: 0.0587\n",
            "Epoch 43/200\n",
            "2/2 [==============================] - 0s 131ms/step - loss: 0.0582\n",
            "Epoch 44/200\n",
            "2/2 [==============================] - 0s 130ms/step - loss: 0.0574\n",
            "Epoch 45/200\n",
            "2/2 [==============================] - 0s 135ms/step - loss: 0.0568\n",
            "Epoch 46/200\n",
            "2/2 [==============================] - 0s 134ms/step - loss: 0.0563\n",
            "Epoch 47/200\n",
            "2/2 [==============================] - 0s 126ms/step - loss: 0.0556\n",
            "Epoch 48/200\n",
            "2/2 [==============================] - 0s 132ms/step - loss: 0.0552\n",
            "Epoch 49/200\n",
            "2/2 [==============================] - 0s 129ms/step - loss: 0.0548\n",
            "Epoch 50/200\n",
            "2/2 [==============================] - 0s 132ms/step - loss: 0.0544\n",
            "Epoch 51/200\n",
            "2/2 [==============================] - 0s 130ms/step - loss: 0.0539\n",
            "Epoch 52/200\n",
            "2/2 [==============================] - 0s 133ms/step - loss: 0.0534\n",
            "Epoch 53/200\n",
            "2/2 [==============================] - 0s 114ms/step - loss: 0.0529\n",
            "Epoch 54/200\n",
            "2/2 [==============================] - 0s 114ms/step - loss: 0.0524\n",
            "Epoch 55/200\n",
            "2/2 [==============================] - 0s 114ms/step - loss: 0.0521\n",
            "Epoch 56/200\n",
            "2/2 [==============================] - 0s 119ms/step - loss: 0.0515\n",
            "Epoch 57/200\n",
            "2/2 [==============================] - 0s 115ms/step - loss: 0.0512\n",
            "Epoch 58/200\n",
            "2/2 [==============================] - 0s 115ms/step - loss: 0.0507\n",
            "Epoch 59/200\n",
            "2/2 [==============================] - 0s 116ms/step - loss: 0.0501\n",
            "Epoch 60/200\n",
            "2/2 [==============================] - 0s 115ms/step - loss: 0.0496\n",
            "Epoch 61/200\n",
            "2/2 [==============================] - 0s 115ms/step - loss: 0.0493\n",
            "Epoch 62/200\n",
            "2/2 [==============================] - 0s 118ms/step - loss: 0.0489\n",
            "Epoch 63/200\n",
            "2/2 [==============================] - 0s 113ms/step - loss: 0.0486\n",
            "Epoch 64/200\n",
            "2/2 [==============================] - 0s 117ms/step - loss: 0.0482\n",
            "Epoch 65/200\n",
            "2/2 [==============================] - 0s 113ms/step - loss: 0.0478\n",
            "Epoch 66/200\n",
            "2/2 [==============================] - 0s 114ms/step - loss: 0.0474\n",
            "Epoch 67/200\n",
            "2/2 [==============================] - 0s 115ms/step - loss: 0.0469\n",
            "Epoch 68/200\n",
            "2/2 [==============================] - 0s 116ms/step - loss: 0.0466\n",
            "Epoch 69/200\n",
            "2/2 [==============================] - 0s 117ms/step - loss: 0.0462\n",
            "Epoch 70/200\n",
            "2/2 [==============================] - 0s 118ms/step - loss: 0.0458\n",
            "Epoch 71/200\n",
            "2/2 [==============================] - 0s 116ms/step - loss: 0.0455\n",
            "Epoch 72/200\n",
            "2/2 [==============================] - 0s 115ms/step - loss: 0.0452\n",
            "Epoch 73/200\n",
            "2/2 [==============================] - 0s 115ms/step - loss: 0.0447\n",
            "Epoch 74/200\n",
            "2/2 [==============================] - 0s 130ms/step - loss: 0.0445\n",
            "Epoch 75/200\n",
            "2/2 [==============================] - 0s 116ms/step - loss: 0.0442\n",
            "Epoch 76/200\n",
            "2/2 [==============================] - 0s 119ms/step - loss: 0.0437\n",
            "Epoch 77/200\n",
            "2/2 [==============================] - 0s 117ms/step - loss: 0.0433\n",
            "Epoch 78/200\n",
            "2/2 [==============================] - 0s 116ms/step - loss: 0.0433\n",
            "Epoch 79/200\n",
            "2/2 [==============================] - 0s 116ms/step - loss: 0.0428\n",
            "Epoch 80/200\n",
            "2/2 [==============================] - 0s 117ms/step - loss: 0.0423\n",
            "Epoch 81/200\n",
            "2/2 [==============================] - 0s 114ms/step - loss: 0.0423\n",
            "Epoch 82/200\n",
            "2/2 [==============================] - 0s 117ms/step - loss: 0.0419\n",
            "Epoch 83/200\n",
            "2/2 [==============================] - 0s 117ms/step - loss: 0.0415\n",
            "Epoch 84/200\n",
            "2/2 [==============================] - 0s 117ms/step - loss: 0.0412\n",
            "Epoch 85/200\n",
            "2/2 [==============================] - 0s 114ms/step - loss: 0.0410\n",
            "Epoch 86/200\n",
            "2/2 [==============================] - 0s 117ms/step - loss: 0.0407\n",
            "Epoch 87/200\n",
            "2/2 [==============================] - 0s 115ms/step - loss: 0.0405\n",
            "Epoch 88/200\n",
            "2/2 [==============================] - 0s 120ms/step - loss: 0.0403\n",
            "Epoch 89/200\n",
            "2/2 [==============================] - 0s 117ms/step - loss: 0.0400\n",
            "Epoch 90/200\n",
            "2/2 [==============================] - 0s 114ms/step - loss: 0.0396\n",
            "Epoch 91/200\n",
            "2/2 [==============================] - 0s 117ms/step - loss: 0.0394\n",
            "Epoch 92/200\n",
            "2/2 [==============================] - 0s 115ms/step - loss: 0.0391\n",
            "Epoch 93/200\n",
            "2/2 [==============================] - 0s 117ms/step - loss: 0.0390\n",
            "Epoch 94/200\n",
            "2/2 [==============================] - 0s 118ms/step - loss: 0.0388\n",
            "Epoch 95/200\n",
            "2/2 [==============================] - 0s 120ms/step - loss: 0.0384\n",
            "Epoch 96/200\n",
            "2/2 [==============================] - 0s 138ms/step - loss: 0.0381\n",
            "Epoch 97/200\n",
            "2/2 [==============================] - 0s 115ms/step - loss: 0.0379\n",
            "Epoch 98/200\n",
            "2/2 [==============================] - 0s 133ms/step - loss: 0.0377\n",
            "Epoch 99/200\n",
            "2/2 [==============================] - 0s 131ms/step - loss: 0.0374\n",
            "Epoch 100/200\n",
            "2/2 [==============================] - 0s 134ms/step - loss: 0.0372\n",
            "Epoch 101/200\n",
            "2/2 [==============================] - 0s 128ms/step - loss: 0.0372\n",
            "Epoch 102/200\n",
            "2/2 [==============================] - 0s 129ms/step - loss: 0.0367\n",
            "Epoch 103/200\n",
            "2/2 [==============================] - 0s 129ms/step - loss: 0.0367\n",
            "Epoch 104/200\n",
            "2/2 [==============================] - 0s 118ms/step - loss: 0.0361\n",
            "Epoch 105/200\n",
            "2/2 [==============================] - 0s 124ms/step - loss: 0.0361\n",
            "Epoch 106/200\n",
            "2/2 [==============================] - 0s 128ms/step - loss: 0.0358\n",
            "Epoch 107/200\n",
            "2/2 [==============================] - 0s 133ms/step - loss: 0.0356\n",
            "Epoch 108/200\n",
            "2/2 [==============================] - 0s 125ms/step - loss: 0.0356\n",
            "Epoch 109/200\n",
            "2/2 [==============================] - 0s 132ms/step - loss: 0.0351\n",
            "Epoch 110/200\n",
            "2/2 [==============================] - 0s 119ms/step - loss: 0.0348\n",
            "Epoch 111/200\n",
            "2/2 [==============================] - 0s 115ms/step - loss: 0.0348\n",
            "Epoch 112/200\n",
            "2/2 [==============================] - 0s 117ms/step - loss: 0.0345\n",
            "Epoch 113/200\n",
            "2/2 [==============================] - 0s 119ms/step - loss: 0.0342\n",
            "Epoch 114/200\n",
            "2/2 [==============================] - 0s 118ms/step - loss: 0.0339\n",
            "Epoch 115/200\n",
            "2/2 [==============================] - 0s 119ms/step - loss: 0.0340\n",
            "Epoch 116/200\n",
            "2/2 [==============================] - 0s 115ms/step - loss: 0.0336\n",
            "Epoch 117/200\n",
            "2/2 [==============================] - 0s 115ms/step - loss: 0.0335\n",
            "Epoch 118/200\n",
            "2/2 [==============================] - 0s 117ms/step - loss: 0.0333\n",
            "Epoch 119/200\n",
            "2/2 [==============================] - 0s 116ms/step - loss: 0.0330\n",
            "Epoch 120/200\n",
            "2/2 [==============================] - 0s 116ms/step - loss: 0.0329\n",
            "Epoch 121/200\n",
            "2/2 [==============================] - 0s 119ms/step - loss: 0.0328\n",
            "Epoch 122/200\n",
            "2/2 [==============================] - 0s 119ms/step - loss: 0.0324\n",
            "Epoch 123/200\n",
            "2/2 [==============================] - 0s 116ms/step - loss: 0.0325\n",
            "Epoch 124/200\n",
            "2/2 [==============================] - 0s 130ms/step - loss: 0.0321\n",
            "Epoch 125/200\n",
            "2/2 [==============================] - 0s 140ms/step - loss: 0.0321\n",
            "Epoch 126/200\n",
            "2/2 [==============================] - 0s 151ms/step - loss: 0.0320\n",
            "Epoch 127/200\n",
            "2/2 [==============================] - 0s 127ms/step - loss: 0.0317\n",
            "Epoch 128/200\n",
            "2/2 [==============================] - 0s 136ms/step - loss: 0.0316\n",
            "Epoch 129/200\n",
            "2/2 [==============================] - 0s 156ms/step - loss: 0.0312\n",
            "Epoch 130/200\n",
            "2/2 [==============================] - 0s 128ms/step - loss: 0.0312\n",
            "Epoch 131/200\n",
            "2/2 [==============================] - 0s 151ms/step - loss: 0.0311\n",
            "Epoch 132/200\n",
            "2/2 [==============================] - 0s 135ms/step - loss: 0.0309\n",
            "Epoch 133/200\n",
            "2/2 [==============================] - 0s 154ms/step - loss: 0.0307\n",
            "Epoch 134/200\n",
            "2/2 [==============================] - 0s 150ms/step - loss: 0.0306\n",
            "Epoch 135/200\n",
            "2/2 [==============================] - 0s 121ms/step - loss: 0.0306\n",
            "Epoch 136/200\n",
            "2/2 [==============================] - 0s 151ms/step - loss: 0.0306\n",
            "Epoch 137/200\n",
            "2/2 [==============================] - 0s 125ms/step - loss: 0.0301\n",
            "Epoch 138/200\n",
            "2/2 [==============================] - 0s 139ms/step - loss: 0.0299\n",
            "Epoch 139/200\n",
            "2/2 [==============================] - 0s 153ms/step - loss: 0.0300\n",
            "Epoch 140/200\n",
            "2/2 [==============================] - 0s 145ms/step - loss: 0.0298\n",
            "Epoch 141/200\n",
            "2/2 [==============================] - 0s 147ms/step - loss: 0.0296\n",
            "Epoch 142/200\n",
            "2/2 [==============================] - 0s 164ms/step - loss: 0.0295\n",
            "Epoch 143/200\n",
            "2/2 [==============================] - 0s 141ms/step - loss: 0.0294\n",
            "Epoch 144/200\n",
            "2/2 [==============================] - 0s 141ms/step - loss: 0.0293\n",
            "Epoch 145/200\n",
            "2/2 [==============================] - 0s 136ms/step - loss: 0.0290\n",
            "Epoch 146/200\n",
            "2/2 [==============================] - 0s 137ms/step - loss: 0.0291\n",
            "Epoch 147/200\n",
            "2/2 [==============================] - 0s 150ms/step - loss: 0.0289\n",
            "Epoch 148/200\n",
            "2/2 [==============================] - 0s 149ms/step - loss: 0.0288\n",
            "Epoch 149/200\n",
            "2/2 [==============================] - 0s 186ms/step - loss: 0.0285\n",
            "Epoch 150/200\n",
            "2/2 [==============================] - 0s 182ms/step - loss: 0.0285\n",
            "Epoch 151/200\n",
            "2/2 [==============================] - 0s 151ms/step - loss: 0.0284\n",
            "Epoch 152/200\n",
            "2/2 [==============================] - 0s 153ms/step - loss: 0.0283\n",
            "Epoch 153/200\n",
            "2/2 [==============================] - 0s 146ms/step - loss: 0.0282\n",
            "Epoch 154/200\n",
            "2/2 [==============================] - 0s 152ms/step - loss: 0.0281\n",
            "Epoch 155/200\n",
            "2/2 [==============================] - 0s 142ms/step - loss: 0.0278\n",
            "Epoch 156/200\n",
            "2/2 [==============================] - 0s 142ms/step - loss: 0.0280\n",
            "Epoch 157/200\n",
            "2/2 [==============================] - 0s 132ms/step - loss: 0.0278\n",
            "Epoch 158/200\n",
            "2/2 [==============================] - 0s 151ms/step - loss: 0.0277\n",
            "Epoch 159/200\n",
            "2/2 [==============================] - 0s 154ms/step - loss: 0.0277\n",
            "Epoch 160/200\n",
            "2/2 [==============================] - 0s 142ms/step - loss: 0.0276\n",
            "Epoch 161/200\n",
            "2/2 [==============================] - 0s 136ms/step - loss: 0.0275\n",
            "Epoch 162/200\n",
            "2/2 [==============================] - 0s 136ms/step - loss: 0.0273\n",
            "Epoch 163/200\n",
            "2/2 [==============================] - 0s 153ms/step - loss: 0.0271\n",
            "Epoch 164/200\n",
            "2/2 [==============================] - 0s 122ms/step - loss: 0.0271\n",
            "Epoch 165/200\n",
            "2/2 [==============================] - 0s 120ms/step - loss: 0.0270\n",
            "Epoch 166/200\n",
            "2/2 [==============================] - 0s 124ms/step - loss: 0.0269\n",
            "Epoch 167/200\n",
            "2/2 [==============================] - 0s 128ms/step - loss: 0.0266\n",
            "Epoch 168/200\n",
            "2/2 [==============================] - 0s 140ms/step - loss: 0.0265\n",
            "Epoch 169/200\n",
            "2/2 [==============================] - 0s 115ms/step - loss: 0.0263\n",
            "Epoch 170/200\n",
            "2/2 [==============================] - 0s 150ms/step - loss: 0.0262\n",
            "Epoch 171/200\n",
            "2/2 [==============================] - 0s 120ms/step - loss: 0.0261\n",
            "Epoch 172/200\n",
            "2/2 [==============================] - 0s 126ms/step - loss: 0.0260\n",
            "Epoch 173/200\n",
            "2/2 [==============================] - 0s 130ms/step - loss: 0.0257\n",
            "Epoch 174/200\n",
            "2/2 [==============================] - 0s 153ms/step - loss: 0.0257\n",
            "Epoch 175/200\n",
            "2/2 [==============================] - 0s 155ms/step - loss: 0.0256\n",
            "Epoch 176/200\n",
            "2/2 [==============================] - 0s 128ms/step - loss: 0.0256\n",
            "Epoch 177/200\n",
            "2/2 [==============================] - 0s 118ms/step - loss: 0.0255\n",
            "Epoch 178/200\n",
            "2/2 [==============================] - 0s 136ms/step - loss: 0.0254\n",
            "Epoch 179/200\n",
            "2/2 [==============================] - 0s 147ms/step - loss: 0.0255\n",
            "Epoch 180/200\n",
            "2/2 [==============================] - 0s 128ms/step - loss: 0.0253\n",
            "Epoch 181/200\n",
            "2/2 [==============================] - 0s 159ms/step - loss: 0.0251\n",
            "Epoch 182/200\n",
            "2/2 [==============================] - 0s 143ms/step - loss: 0.0251\n",
            "Epoch 183/200\n",
            "2/2 [==============================] - 0s 122ms/step - loss: 0.0250\n",
            "Epoch 184/200\n",
            "2/2 [==============================] - 0s 124ms/step - loss: 0.0250\n",
            "Epoch 185/200\n",
            "2/2 [==============================] - 0s 122ms/step - loss: 0.0248\n",
            "Epoch 186/200\n",
            "2/2 [==============================] - 0s 124ms/step - loss: 0.0247\n",
            "Epoch 187/200\n",
            "2/2 [==============================] - 0s 152ms/step - loss: 0.0246\n",
            "Epoch 188/200\n",
            "2/2 [==============================] - 0s 126ms/step - loss: 0.0246\n",
            "Epoch 189/200\n",
            "2/2 [==============================] - 0s 114ms/step - loss: 0.0243\n",
            "Epoch 190/200\n",
            "2/2 [==============================] - 0s 116ms/step - loss: 0.0244\n",
            "Epoch 191/200\n",
            "2/2 [==============================] - 0s 131ms/step - loss: 0.0243\n",
            "Epoch 192/200\n",
            "2/2 [==============================] - 0s 142ms/step - loss: 0.0243\n",
            "Epoch 193/200\n",
            "2/2 [==============================] - 0s 158ms/step - loss: 0.0242\n",
            "Epoch 194/200\n",
            "2/2 [==============================] - 0s 155ms/step - loss: 0.0242\n",
            "Epoch 195/200\n",
            "2/2 [==============================] - 0s 135ms/step - loss: 0.0238\n",
            "Epoch 196/200\n",
            "2/2 [==============================] - 0s 132ms/step - loss: 0.0238\n",
            "Epoch 197/200\n",
            "2/2 [==============================] - 0s 128ms/step - loss: 0.0240\n",
            "Epoch 198/200\n",
            "2/2 [==============================] - 0s 130ms/step - loss: 0.0236\n",
            "Epoch 199/200\n",
            "2/2 [==============================] - 0s 166ms/step - loss: 0.0238\n",
            "Epoch 200/200\n",
            "2/2 [==============================] - 0s 187ms/step - loss: 0.0234\n"
          ]
        }
      ]
    },
    {
      "cell_type": "code",
      "source": [
        "r1_loss = r1.history['loss']\n",
        "r2_loss = r2.history['loss']\n",
        "\n",
        "epochs = range(1, len(r1_loss) + 1)\n",
        "\n",
        "plt.figure()\n",
        "\n",
        "plt.plot(epochs, r1_loss, 'b', label='Training loss for forward LSTM')\n",
        "plt.plot(epochs, r2_loss, 'r', label='Training loss for backward LSTM')\n",
        "plt.title('Training oss')\n",
        "plt.legend()\n",
        "\n",
        "plt.show()"
      ],
      "metadata": {
        "colab": {
          "base_uri": "https://localhost:8080/",
          "height": 545
        },
        "id": "4graiqLArFyq",
        "outputId": "90f20691-aaa8-43ec-bd6f-f8e8cca5450d"
      },
      "execution_count": null,
      "outputs": [
        {
          "output_type": "display_data",
          "data": {
            "text/plain": [
              "<Figure size 1200x600 with 1 Axes>"
            ],
            "image/png": "[encoded data removed]"
          },
          "metadata": {}
        }
      ]
    },
    {
      "cell_type": "code",
      "source": [
        "y_for = lstm_for.predict(X_for)"
      ],
      "metadata": {
        "colab": {
          "base_uri": "https://localhost:8080/"
        },
        "id": "zEzK4BAurm6D",
        "outputId": "64e2de23-6ec1-4095-f108-7899bbf29b4e"
      },
      "execution_count": null,
      "outputs": [
        {
          "output_type": "stream",
          "name": "stdout",
          "text": [
            "8/8 [==============================] - 2s 27ms/step\n"
          ]
        }
      ]
    },
    {
      "cell_type": "code",
      "source": [
        "y_back = lstm_back.predict(X_back)"
      ],
      "metadata": {
        "colab": {
          "base_uri": "https://localhost:8080/"
        },
        "id": "Xufc6re-sfYX",
        "outputId": "8d26b07b-0e8b-4af6-b326-d7b6227638c9"
      },
      "execution_count": null,
      "outputs": [
        {
          "output_type": "stream",
          "name": "stdout",
          "text": [
            "8/8 [==============================] - 1s 26ms/step\n"
          ]
        }
      ]
    },
    {
      "cell_type": "code",
      "source": [
        "y_for = np.round(y_for)\n",
        "y_back = np.round(y_back)"
      ],
      "metadata": {
        "id": "oxtgeOlmsg8-"
      },
      "execution_count": null,
      "outputs": []
    },
    {
      "cell_type": "code",
      "source": [
        "from sklearn.metrics import mean_squared_error"
      ],
      "metadata": {
        "id": "G-gGDoU7siam"
      },
      "execution_count": null,
      "outputs": []
    },
    {
      "cell_type": "code",
      "source": [
        "mean_squared_error(y_true=Y, y_pred=y_for), mean_squared_error(y_true=Y, y_pred=y_back)"
      ],
      "metadata": {
        "colab": {
          "base_uri": "https://localhost:8080/"
        },
        "id": "e5Ai2hhXsjpp",
        "outputId": "9085f460-38bc-47c9-95f0-84911444542c"
      },
      "execution_count": null,
      "outputs": [
        {
          "output_type": "execute_result",
          "data": {
            "text/plain": [
              "(0.023448823, 0.023454754)"
            ]
          },
          "metadata": {},
          "execution_count": 49
        }
      ]
    },
    {
      "cell_type": "code",
      "source": [
        "lstm_for.save('/content/drive/MyDrive/lstm_for_casia.h5')"
      ],
      "metadata": {
        "id": "NBipTzlisk6T"
      },
      "execution_count": null,
      "outputs": []
    },
    {
      "cell_type": "code",
      "source": [
        "lstm_back.save('/content/drive/MyDrive/lstm_back_casia.h5')"
      ],
      "metadata": {
        "id": "57n5G540soGA"
      },
      "execution_count": null,
      "outputs": []
    },
    {
      "cell_type": "code",
      "source": [],
      "metadata": {
        "id": "oEBX81Zass6j"
      },
      "execution_count": null,
      "outputs": []
    }
  ]
}