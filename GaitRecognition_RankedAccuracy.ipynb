{
  "nbformat": 4,
  "nbformat_minor": 0,
  "metadata": {
    "colab": {
      "provenance": []
    },
    "kernelspec": {
      "name": "python3",
      "display_name": "Python 3"
    },
    "language_info": {
      "name": "python"
    },
    "accelerator": "GPU",
    "gpuClass": "standard"
  },
  "cells": [
    {
      "cell_type": "code",
      "execution_count": null,
      "metadata": {
        "colab": {
          "base_uri": "https://localhost:8080/"
        },
        "id": "av85ip85_34R",
        "outputId": "a3b56f1a-cbb9-42f8-d2e2-880fcbd6c7bf"
      },
      "outputs": [
        {
          "output_type": "stream",
          "name": "stdout",
          "text": [
            "Mounted at /content/drive\n"
          ]
        }
      ],
      "source": [
        "from google.colab import drive\n",
        "drive.mount('/content/drive', force_remount=True)"
      ]
    },
    {
      "cell_type": "code",
      "source": [
        "import numpy as np\n",
        "import pandas as pd\n",
        "import matplotlib.pyplot as plt\n",
        "from matplotlib.ticker import FormatStrFormatter\n",
        "import seaborn as sns\n",
        "sns.set_style(\n",
        "    style='darkgrid', \n",
        "    rc={'axes.facecolor': '.9', 'grid.color': '.8'}\n",
        ")\n",
        "#sns.set_palette(palette='deep')\n",
        "#sns_c = sns.color_palette(palette='deep')\n",
        "%matplotlib inline\n",
        "plt.rcParams['figure.figsize'] = [12, 6]\n",
        "plt.rcParams['figure.dpi'] = 100"
      ],
      "metadata": {
        "id": "OjaccVLLAUMi"
      },
      "execution_count": null,
      "outputs": []
    },
    {
      "cell_type": "code",
      "source": [
        "import os\n",
        "import numpy as np\n",
        "import matplotlib.pyplot as plt\n",
        "from imageio import imread\n",
        "from skimage.transform import resize\n",
        "import numpy as np\n",
        "from PIL import Image"
      ],
      "metadata": {
        "id": "nEy9qgcZAqE2"
      },
      "execution_count": null,
      "outputs": []
    },
    {
      "cell_type": "code",
      "source": [
        "def mass_center(img,is_round=True):\n",
        "    Y = img.mean(axis=1)\n",
        "    X = img.mean(axis=0)\n",
        "    Y_ = np.sum(np.arange(Y.shape[0]) * Y)/np.sum(Y)\n",
        "    X_ = np.sum(np.arange(X.shape[0]) * X)/np.sum(X)\n",
        "    if is_round:\n",
        "        return int(round(X_)),int(round(Y_))\n",
        "    return X_,Y_\n",
        "\n",
        "def image_extract(img,newsize):\n",
        "    x_s = np.where(img.mean(axis=0)!=0)[0].min()\n",
        "    x_e = np.where(img.mean(axis=0)!=0)[0].max()\n",
        "    \n",
        "    y_s = np.where(img.mean(axis=1)!=0)[0].min()\n",
        "    y_e = np.where(img.mean(axis=1)!=0)[0].max()\n",
        "    \n",
        "    x_c,_ = mass_center(img)\n",
        "    x_s = x_c-newsize[1]//2\n",
        "    x_e = x_c+newsize[1]//2\n",
        "    img = img[y_s:y_e,x_s if x_s>0 else 0:x_e if x_e<img.shape[1] else img.shape[1]]\n",
        "    return np.asarray(Image.fromarray(img).resize(size=newsize).convert('L'))"
      ],
      "metadata": {
        "id": "gYDuIFnyArnb"
      },
      "execution_count": null,
      "outputs": []
    },
    {
      "cell_type": "code",
      "source": [
        "from PIL import Image\n",
        "import imageio"
      ],
      "metadata": {
        "id": "H2nDMkbxAt0R"
      },
      "execution_count": null,
      "outputs": []
    },
    {
      "cell_type": "code",
      "source": [
        "import tensorflow as tf"
      ],
      "metadata": {
        "id": "iepJWSq-AviJ"
      },
      "execution_count": null,
      "outputs": []
    },
    {
      "cell_type": "code",
      "source": [
        "def SSIM(y_true, y_pred):\n",
        "  return 1 - tf.reduce_mean(tf.image.ssim(y_true, y_pred, max_val=1.0, filter_size=3))"
      ],
      "metadata": {
        "id": "xSAU5QR3AzHl"
      },
      "execution_count": null,
      "outputs": []
    },
    {
      "cell_type": "code",
      "source": [
        "def SSIM_score(y_true, y_pred):\n",
        "  return tf.image.ssim(y_true, y_pred, max_val=1.0, filter_size=3)"
      ],
      "metadata": {
        "id": "Cx7zbr3IA1E1"
      },
      "execution_count": null,
      "outputs": []
    },
    {
      "cell_type": "code",
      "source": [
        "X_label = []\n",
        "k = 0\n",
        "\n",
        "path = f'/content/drive/MyDrive/GEI_casia/001/'\n",
        "files = os.listdir(path)\n",
        "files.sort()\n",
        "imgs = [imread(path+f) for f in files]\n",
        "imgs = [image_extract(i,(200,150)) for i in imgs]\n",
        "imgs = np.minimum(imgs,1)\n",
        "\n",
        "X = imgs\n",
        "\n",
        "for _ in range(len(files)):\n",
        "  X_label.append(k)\n",
        "k += 1\n",
        "\n",
        "for id in range(2, 81):\n",
        "  if id == 5:\n",
        "    continue\n",
        "  \n",
        "  path = f'/content/drive/MyDrive/GEI_casia/{str(id).zfill(3)}/'\n",
        "  files = os.listdir(path)\n",
        "  files.sort()\n",
        "  imgs = [imread(path+f) for f in files]\n",
        "  imgs = [image_extract(i,(200,150)) for i in imgs]\n",
        "  imgs = np.minimum(imgs,1)\n",
        "\n",
        "  X = np.append(X, imgs, 0)\n",
        "\n",
        "  for _ in range(len(files)):\n",
        "    X_label.append(k)\n",
        "  k += 1"
      ],
      "metadata": {
        "colab": {
          "base_uri": "https://localhost:8080/"
        },
        "id": "W-4GFEIEBUXP",
        "outputId": "255945a8-1c87-41b8-8cd2-32106df84354"
      },
      "execution_count": null,
      "outputs": [
        {
          "output_type": "stream",
          "name": "stderr",
          "text": [
            "<ipython-input-33-818a43545d7f>:7: DeprecationWarning: Starting with ImageIO v3 the behavior of this function will switch to that of iio.v3.imread. To keep the current behavior (and make this warning disappear) use `import imageio.v2 as imageio` or call `imageio.v2.imread` directly.\n",
            "  imgs = [imread(path+f) for f in files]\n",
            "<ipython-input-33-818a43545d7f>:24: DeprecationWarning: Starting with ImageIO v3 the behavior of this function will switch to that of iio.v3.imread. To keep the current behavior (and make this warning disappear) use `import imageio.v2 as imageio` or call `imageio.v2.imread` directly.\n",
            "  imgs = [imread(path+f) for f in files]\n"
          ]
        }
      ]
    },
    {
      "cell_type": "code",
      "source": [
        "print(X_label)"
      ],
      "metadata": {
        "colab": {
          "base_uri": "https://localhost:8080/"
        },
        "id": "bfVpkSC1Em1y",
        "outputId": "32947544-14dd-46db-950c-38b20eee492f"
      },
      "execution_count": null,
      "outputs": [
        {
          "output_type": "stream",
          "name": "stdout",
          "text": [
            "[0, 0, 1, 1, 1, 2, 2, 3, 3, 3, 4, 4, 5, 5, 6, 6, 6, 7, 7, 8, 8, 9, 9, 9, 10, 10, 10, 11, 11, 11, 12, 12, 12, 13, 13, 13, 14, 14, 14, 15, 15, 16, 16, 17, 17, 18, 18, 19, 19, 19, 20, 20, 21, 21, 21, 22, 22, 22, 23, 23, 23, 24, 24, 24, 25, 25, 25, 26, 26, 26, 27, 27, 28, 28, 29, 29, 29, 30, 30, 31, 31, 32, 32, 32, 33, 33, 33, 34, 34, 34, 35, 35, 35, 36, 36, 36, 37, 37, 37, 38, 38, 38, 39, 39, 40, 40, 41, 41, 41, 42, 42, 42, 43, 43, 43, 44, 44, 45, 45, 45, 46, 46, 46, 47, 47, 48, 48, 49, 49, 50, 50, 51, 51, 52, 52, 53, 53, 53, 54, 54, 55, 55, 56, 56, 57, 57, 57, 58, 58, 58, 59, 59, 60, 60, 60, 61, 61, 62, 62, 63, 63, 63, 64, 64, 65, 65, 65, 66, 66, 67, 67, 68, 68, 69, 69, 69, 70, 70, 70, 71, 71, 71, 72, 72, 73, 73, 73, 74, 74, 75, 75, 75, 76, 76, 77, 77, 77, 78, 78, 78]\n"
          ]
        }
      ]
    },
    {
      "cell_type": "code",
      "source": [
        "assert len(X_label) == X.shape[0]"
      ],
      "metadata": {
        "id": "VuHTyQDqFfwX"
      },
      "execution_count": null,
      "outputs": []
    },
    {
      "cell_type": "code",
      "source": [
        "X_label = np.array(X_label)"
      ],
      "metadata": {
        "id": "IRkOAPwmFlL8"
      },
      "execution_count": null,
      "outputs": []
    },
    {
      "cell_type": "code",
      "source": [
        "label_copy = np.copy(X_label)"
      ],
      "metadata": {
        "id": "ns4xxj2nGCJ-"
      },
      "execution_count": null,
      "outputs": []
    },
    {
      "cell_type": "code",
      "source": [
        "shuffler = np.random.permutation(len(X))\n",
        "\n",
        "X = X[shuffler]\n",
        "X_label = X_label[shuffler]"
      ],
      "metadata": {
        "id": "rEwQ91FcFuAZ"
      },
      "execution_count": null,
      "outputs": []
    },
    {
      "cell_type": "code",
      "source": [
        "print(X_label)"
      ],
      "metadata": {
        "colab": {
          "base_uri": "https://localhost:8080/"
        },
        "id": "_fiTqNaAGIV3",
        "outputId": "55798762-b430-4df8-d480-d8d1200b0a8b"
      },
      "execution_count": null,
      "outputs": [
        {
          "output_type": "stream",
          "name": "stdout",
          "text": [
            "[34 43 38  1 43 15  1  6 14 24 20 77  9 58 60 23 23 32 36 64  6  6 48 74\n",
            " 17 21 41  5 13 18 33 68 59 45  7 28 50 43 40  4 46 30 26 73 39 29 22 60\n",
            " 22 71 25 62 23 39 35 37 46 70 32 49 57 69 15 13 70 27 65 10 76 57 10 19\n",
            " 44 76 16 61 67 31 49 67  0 25 77 72 12  2 65 58 78 69 56 57  2 21 31 75\n",
            " 13 69 22  7 45 29 12 16 62 30 51 42 53 71 29  8 64 53  9 52 38 47 28 58\n",
            " 27  3  3 33  4  1 14 55  0 54 11 33 47 24 63 68 32 17 34 52 19 70 75 48\n",
            " 51  3 12 63 42 56 38 71 21 11 73 36  5 73 37 60 42 41 53 66  9 24 36 11\n",
            " 37 66 26 26 41 25 65 35 59 18 46 44 35 63 54 19 45 50 40 34  8 10 78 14\n",
            " 74 55 78 20 75 61 77 72]\n"
          ]
        }
      ]
    },
    {
      "cell_type": "code",
      "source": [
        "print(label_copy)"
      ],
      "metadata": {
        "colab": {
          "base_uri": "https://localhost:8080/"
        },
        "id": "XPsji7e9GKYY",
        "outputId": "71378427-2c31-41cd-c6a4-90bf797fc73b"
      },
      "execution_count": null,
      "outputs": [
        {
          "output_type": "stream",
          "name": "stdout",
          "text": [
            "[ 0  0  1  1  1  2  2  3  3  3  4  4  5  5  6  6  6  7  7  8  8  9  9  9\n",
            " 10 10 10 11 11 11 12 12 12 13 13 13 14 14 14 15 15 16 16 17 17 18 18 19\n",
            " 19 19 20 20 21 21 21 22 22 22 23 23 23 24 24 24 25 25 25 26 26 26 27 27\n",
            " 28 28 29 29 29 30 30 31 31 32 32 32 33 33 33 34 34 34 35 35 35 36 36 36\n",
            " 37 37 37 38 38 38 39 39 40 40 41 41 41 42 42 42 43 43 43 44 44 45 45 45\n",
            " 46 46 46 47 47 48 48 49 49 50 50 51 51 52 52 53 53 53 54 54 55 55 56 56\n",
            " 57 57 57 58 58 58 59 59 60 60 60 61 61 62 62 63 63 63 64 64 65 65 65 66\n",
            " 66 67 67 68 68 69 69 69 70 70 70 71 71 71 72 72 73 73 73 74 74 75 75 75\n",
            " 76 76 77 77 77 78 78 78]\n"
          ]
        }
      ]
    },
    {
      "cell_type": "code",
      "source": [
        "from sklearn.ensemble import RandomForestClassifier"
      ],
      "metadata": {
        "id": "wUXQcD3RGMBr"
      },
      "execution_count": null,
      "outputs": []
    },
    {
      "cell_type": "code",
      "source": [
        "model = RandomForestClassifier()"
      ],
      "metadata": {
        "id": "y8TBLtx2GaMV"
      },
      "execution_count": null,
      "outputs": []
    },
    {
      "cell_type": "code",
      "source": [
        "model.fit(np.reshape(X, (X.shape[0], -1)), X_label)"
      ],
      "metadata": {
        "colab": {
          "base_uri": "https://localhost:8080/",
          "height": 74
        },
        "id": "u7ONcQnrGct4",
        "outputId": "b26beb22-e909-4b64-94a4-7b3976d60e88"
      },
      "execution_count": null,
      "outputs": [
        {
          "output_type": "execute_result",
          "data": {
            "text/plain": [
              "RandomForestClassifier()"
            ],
            "text/html": [
              "<style>#sk-container-id-2 {color: black;background-color: white;}#sk-container-id-2 pre{padding: 0;}#sk-container-id-2 div.sk-toggleable {background-color: white;}#sk-container-id-2 label.sk-toggleable__label {cursor: pointer;display: block;width: 100%;margin-bottom: 0;padding: 0.3em;box-sizing: border-box;text-align: center;}#sk-container-id-2 label.sk-toggleable__label-arrow:before {content: \"▸\";float: left;margin-right: 0.25em;color: #696969;}#sk-container-id-2 label.sk-toggleable__label-arrow:hover:before {color: black;}#sk-container-id-2 div.sk-estimator:hover label.sk-toggleable__label-arrow:before {color: black;}#sk-container-id-2 div.sk-toggleable__content {max-height: 0;max-width: 0;overflow: hidden;text-align: left;background-color: #f0f8ff;}#sk-container-id-2 div.sk-toggleable__content pre {margin: 0.2em;color: black;border-radius: 0.25em;background-color: #f0f8ff;}#sk-container-id-2 input.sk-toggleable__control:checked~div.sk-toggleable__content {max-height: 200px;max-width: 100%;overflow: auto;}#sk-container-id-2 input.sk-toggleable__control:checked~label.sk-toggleable__label-arrow:before {content: \"▾\";}#sk-container-id-2 div.sk-estimator input.sk-toggleable__control:checked~label.sk-toggleable__label {background-color: #d4ebff;}#sk-container-id-2 div.sk-label input.sk-toggleable__control:checked~label.sk-toggleable__label {background-color: #d4ebff;}#sk-container-id-2 input.sk-hidden--visually {border: 0;clip: rect(1px 1px 1px 1px);clip: rect(1px, 1px, 1px, 1px);height: 1px;margin: -1px;overflow: hidden;padding: 0;position: absolute;width: 1px;}#sk-container-id-2 div.sk-estimator {font-family: monospace;background-color: #f0f8ff;border: 1px dotted black;border-radius: 0.25em;box-sizing: border-box;margin-bottom: 0.5em;}#sk-container-id-2 div.sk-estimator:hover {background-color: #d4ebff;}#sk-container-id-2 div.sk-parallel-item::after {content: \"\";width: 100%;border-bottom: 1px solid gray;flex-grow: 1;}#sk-container-id-2 div.sk-label:hover label.sk-toggleable__label {background-color: #d4ebff;}#sk-container-id-2 div.sk-serial::before {content: \"\";position: absolute;border-left: 1px solid gray;box-sizing: border-box;top: 0;bottom: 0;left: 50%;z-index: 0;}#sk-container-id-2 div.sk-serial {display: flex;flex-direction: column;align-items: center;background-color: white;padding-right: 0.2em;padding-left: 0.2em;position: relative;}#sk-container-id-2 div.sk-item {position: relative;z-index: 1;}#sk-container-id-2 div.sk-parallel {display: flex;align-items: stretch;justify-content: center;background-color: white;position: relative;}#sk-container-id-2 div.sk-item::before, #sk-container-id-2 div.sk-parallel-item::before {content: \"\";position: absolute;border-left: 1px solid gray;box-sizing: border-box;top: 0;bottom: 0;left: 50%;z-index: -1;}#sk-container-id-2 div.sk-parallel-item {display: flex;flex-direction: column;z-index: 1;position: relative;background-color: white;}#sk-container-id-2 div.sk-parallel-item:first-child::after {align-self: flex-end;width: 50%;}#sk-container-id-2 div.sk-parallel-item:last-child::after {align-self: flex-start;width: 50%;}#sk-container-id-2 div.sk-parallel-item:only-child::after {width: 0;}#sk-container-id-2 div.sk-dashed-wrapped {border: 1px dashed gray;margin: 0 0.4em 0.5em 0.4em;box-sizing: border-box;padding-bottom: 0.4em;background-color: white;}#sk-container-id-2 div.sk-label label {font-family: monospace;font-weight: bold;display: inline-block;line-height: 1.2em;}#sk-container-id-2 div.sk-label-container {text-align: center;}#sk-container-id-2 div.sk-container {/* jupyter's `normalize.less` sets `[hidden] { display: none; }` but bootstrap.min.css set `[hidden] { display: none !important; }` so we also need the `!important` here to be able to override the default hidden behavior on the sphinx rendered scikit-learn.org. See: https://github.com/scikit-learn/scikit-learn/issues/21755 */display: inline-block !important;position: relative;}#sk-container-id-2 div.sk-text-repr-fallback {display: none;}</style><div id=\"sk-container-id-2\" class=\"sk-top-container\"><div class=\"sk-text-repr-fallback\"><pre>RandomForestClassifier()</pre><b>In a Jupyter environment, please rerun this cell to show the HTML representation or trust the notebook. <br />On GitHub, the HTML representation is unable to render, please try loading this page with nbviewer.org.</b></div><div class=\"sk-container\" hidden><div class=\"sk-item\"><div class=\"sk-estimator sk-toggleable\"><input class=\"sk-toggleable__control sk-hidden--visually\" id=\"sk-estimator-id-2\" type=\"checkbox\" checked><label for=\"sk-estimator-id-2\" class=\"sk-toggleable__label sk-toggleable__label-arrow\">RandomForestClassifier</label><div class=\"sk-toggleable__content\"><pre>RandomForestClassifier()</pre></div></div></div></div></div>"
            ]
          },
          "metadata": {},
          "execution_count": 43
        }
      ]
    },
    {
      "cell_type": "markdown",
      "source": [
        "# 10% occlusion"
      ],
      "metadata": {
        "id": "ej9tsK_eG-af"
      }
    },
    {
      "cell_type": "code",
      "source": [
        "path = f'/content/drive/MyDrive/GEI_10/000/'\n",
        "files = os.listdir(path)\n",
        "files.sort()\n",
        "imgs = [imread(path+f) for f in files]\n",
        "imgs = [image_extract(i,(200,150)) for i in imgs]\n",
        "imgs = np.minimum(imgs,1)\n",
        "\n",
        "X_10 = imgs\n",
        "\n",
        "for id in range(1, 79):\n",
        "  path = f'/content/drive/MyDrive/GEI_10/{str(id).zfill(3)}/'\n",
        "  files = os.listdir(path)\n",
        "  files.sort()\n",
        "  imgs = [imread(path+f) for f in files]\n",
        "  imgs = [image_extract(i,(200,150)) for i in imgs]\n",
        "  imgs = np.minimum(imgs,1)\n",
        "\n",
        "  X_10 = np.append(X_10, imgs, 0)"
      ],
      "metadata": {
        "colab": {
          "base_uri": "https://localhost:8080/"
        },
        "id": "GImMk-V9G7v3",
        "outputId": "6b528f1a-8365-4119-f76b-f7bd70459a85"
      },
      "execution_count": null,
      "outputs": [
        {
          "output_type": "stream",
          "name": "stderr",
          "text": [
            "<ipython-input-44-76adc0f327c7>:4: DeprecationWarning: Starting with ImageIO v3 the behavior of this function will switch to that of iio.v3.imread. To keep the current behavior (and make this warning disappear) use `import imageio.v2 as imageio` or call `imageio.v2.imread` directly.\n",
            "  imgs = [imread(path+f) for f in files]\n",
            "<ipython-input-44-76adc0f327c7>:14: DeprecationWarning: Starting with ImageIO v3 the behavior of this function will switch to that of iio.v3.imread. To keep the current behavior (and make this warning disappear) use `import imageio.v2 as imageio` or call `imageio.v2.imread` directly.\n",
            "  imgs = [imread(path+f) for f in files]\n"
          ]
        }
      ]
    },
    {
      "cell_type": "code",
      "source": [
        "model.score(np.reshape(X_10, (X_10.shape[0], -1)), label_copy)"
      ],
      "metadata": {
        "colab": {
          "base_uri": "https://localhost:8080/"
        },
        "id": "5vebB6zEHO7z",
        "outputId": "c88e4e8c-6487-4d0c-a07c-7a6f9854bc41"
      },
      "execution_count": null,
      "outputs": [
        {
          "output_type": "execute_result",
          "data": {
            "text/plain": [
              "0.99"
            ]
          },
          "metadata": {},
          "execution_count": 45
        }
      ]
    },
    {
      "cell_type": "markdown",
      "source": [
        "# 20% occlusion"
      ],
      "metadata": {
        "id": "6uTdxWqaIPTW"
      }
    },
    {
      "cell_type": "code",
      "source": [
        "path = f'/content/drive/MyDrive/GEI_20/000/'\n",
        "files = os.listdir(path)\n",
        "files.sort()\n",
        "imgs = [imread(path+f) for f in files]\n",
        "imgs = [image_extract(i,(200,150)) for i in imgs]\n",
        "imgs = np.minimum(imgs,1)\n",
        "\n",
        "X_20 = imgs\n",
        "\n",
        "for id in range(1, 79):\n",
        "  path = f'/content/drive/MyDrive/GEI_20/{str(id).zfill(3)}/'\n",
        "  files = os.listdir(path)\n",
        "  files.sort()\n",
        "  imgs = [imread(path+f) for f in files]\n",
        "  imgs = [image_extract(i,(200,150)) for i in imgs]\n",
        "  imgs = np.minimum(imgs,1)\n",
        "\n",
        "  X_20 = np.append(X_20, imgs, 0)"
      ],
      "metadata": {
        "colab": {
          "base_uri": "https://localhost:8080/"
        },
        "id": "bX4zQ1hhHqaQ",
        "outputId": "1c13738a-0a6a-4b82-d222-3211dae8dc5e"
      },
      "execution_count": null,
      "outputs": [
        {
          "output_type": "stream",
          "name": "stderr",
          "text": [
            "<ipython-input-46-7803fd97230a>:4: DeprecationWarning: Starting with ImageIO v3 the behavior of this function will switch to that of iio.v3.imread. To keep the current behavior (and make this warning disappear) use `import imageio.v2 as imageio` or call `imageio.v2.imread` directly.\n",
            "  imgs = [imread(path+f) for f in files]\n",
            "<ipython-input-46-7803fd97230a>:14: DeprecationWarning: Starting with ImageIO v3 the behavior of this function will switch to that of iio.v3.imread. To keep the current behavior (and make this warning disappear) use `import imageio.v2 as imageio` or call `imageio.v2.imread` directly.\n",
            "  imgs = [imread(path+f) for f in files]\n"
          ]
        }
      ]
    },
    {
      "cell_type": "code",
      "source": [
        "model.score(np.reshape(X_20, (X_20.shape[0], -1)), label_copy)"
      ],
      "metadata": {
        "colab": {
          "base_uri": "https://localhost:8080/"
        },
        "id": "jFuQv8s9Ilh-",
        "outputId": "a2c6a192-e800-4f9c-8f5f-eda8cc65ece1"
      },
      "execution_count": null,
      "outputs": [
        {
          "output_type": "execute_result",
          "data": {
            "text/plain": [
              "0.93"
            ]
          },
          "metadata": {},
          "execution_count": 47
        }
      ]
    },
    {
      "cell_type": "markdown",
      "source": [
        "# 30% occlusion"
      ],
      "metadata": {
        "id": "bwomBV1nJHZV"
      }
    },
    {
      "cell_type": "code",
      "source": [
        "path = f'/content/drive/MyDrive/GEI_30/000/'\n",
        "files = os.listdir(path)\n",
        "files.sort()\n",
        "imgs = [imread(path+f) for f in files]\n",
        "imgs = [image_extract(i,(200,150)) for i in imgs]\n",
        "imgs = np.minimum(imgs,1)\n",
        "\n",
        "X_30 = imgs\n",
        "\n",
        "for id in range(1, 79):\n",
        "  path = f'/content/drive/MyDrive/GEI_30/{str(id).zfill(3)}/'\n",
        "  files = os.listdir(path)\n",
        "  files.sort()\n",
        "  imgs = [imread(path+f) for f in files]\n",
        "  imgs = [image_extract(i,(200,150)) for i in imgs]\n",
        "  imgs = np.minimum(imgs,1)\n",
        "\n",
        "  X_30 = np.append(X_30, imgs, 0)"
      ],
      "metadata": {
        "colab": {
          "base_uri": "https://localhost:8080/"
        },
        "id": "CbJFQGqpJGd2",
        "outputId": "60cd18c5-4ef8-4eeb-8aca-57f6bcf990fb"
      },
      "execution_count": null,
      "outputs": [
        {
          "output_type": "stream",
          "name": "stderr",
          "text": [
            "<ipython-input-48-881985661f87>:4: DeprecationWarning: Starting with ImageIO v3 the behavior of this function will switch to that of iio.v3.imread. To keep the current behavior (and make this warning disappear) use `import imageio.v2 as imageio` or call `imageio.v2.imread` directly.\n",
            "  imgs = [imread(path+f) for f in files]\n",
            "<ipython-input-48-881985661f87>:14: DeprecationWarning: Starting with ImageIO v3 the behavior of this function will switch to that of iio.v3.imread. To keep the current behavior (and make this warning disappear) use `import imageio.v2 as imageio` or call `imageio.v2.imread` directly.\n",
            "  imgs = [imread(path+f) for f in files]\n"
          ]
        }
      ]
    },
    {
      "cell_type": "code",
      "source": [
        "model.score(np.reshape(X_30, (X_30.shape[0], -1)), label_copy)"
      ],
      "metadata": {
        "colab": {
          "base_uri": "https://localhost:8080/"
        },
        "id": "LDJRupDkJS5Q",
        "outputId": "85db36fe-d20a-44aa-f8e3-c75f29f7f0d6"
      },
      "execution_count": null,
      "outputs": [
        {
          "output_type": "execute_result",
          "data": {
            "text/plain": [
              "0.75"
            ]
          },
          "metadata": {},
          "execution_count": 49
        }
      ]
    },
    {
      "cell_type": "markdown",
      "source": [
        "# 40% occlusion"
      ],
      "metadata": {
        "id": "OH20kyLSJkKt"
      }
    },
    {
      "cell_type": "code",
      "source": [
        "path = f'/content/drive/MyDrive/GEI_40/000/'\n",
        "files = os.listdir(path)\n",
        "files.sort()\n",
        "imgs = [imread(path+f) for f in files]\n",
        "imgs = [image_extract(i,(200,150)) for i in imgs]\n",
        "imgs = np.minimum(imgs,1)\n",
        "\n",
        "X_40 = imgs\n",
        "\n",
        "for id in range(1, 79):\n",
        "  path = f'/content/drive/MyDrive/GEI_40/{str(id).zfill(3)}/'\n",
        "  files = os.listdir(path)\n",
        "  files.sort()\n",
        "  imgs = [imread(path+f) for f in files]\n",
        "  imgs = [image_extract(i,(200,150)) for i in imgs]\n",
        "  imgs = np.minimum(imgs,1)\n",
        "\n",
        "  X_40 = np.append(X_40, imgs, 0)"
      ],
      "metadata": {
        "colab": {
          "base_uri": "https://localhost:8080/"
        },
        "id": "sWvCgbUsJjYf",
        "outputId": "1cf71652-87e7-4672-b314-94d35962d770"
      },
      "execution_count": null,
      "outputs": [
        {
          "output_type": "stream",
          "name": "stderr",
          "text": [
            "<ipython-input-50-3e53ad0fdbcd>:4: DeprecationWarning: Starting with ImageIO v3 the behavior of this function will switch to that of iio.v3.imread. To keep the current behavior (and make this warning disappear) use `import imageio.v2 as imageio` or call `imageio.v2.imread` directly.\n",
            "  imgs = [imread(path+f) for f in files]\n",
            "<ipython-input-50-3e53ad0fdbcd>:14: DeprecationWarning: Starting with ImageIO v3 the behavior of this function will switch to that of iio.v3.imread. To keep the current behavior (and make this warning disappear) use `import imageio.v2 as imageio` or call `imageio.v2.imread` directly.\n",
            "  imgs = [imread(path+f) for f in files]\n"
          ]
        }
      ]
    },
    {
      "cell_type": "code",
      "source": [
        "model.score(np.reshape(X_40, (X_40.shape[0], -1)), label_copy)"
      ],
      "metadata": {
        "colab": {
          "base_uri": "https://localhost:8080/"
        },
        "id": "r6UnoLITJp2R",
        "outputId": "151885d9-499f-4355-8ddc-bdbe9e389288"
      },
      "execution_count": null,
      "outputs": [
        {
          "output_type": "execute_result",
          "data": {
            "text/plain": [
              "0.64"
            ]
          },
          "metadata": {},
          "execution_count": 51
        }
      ]
    },
    {
      "cell_type": "markdown",
      "source": [
        "# 50% occlusion"
      ],
      "metadata": {
        "id": "q8wJkFoNJ58N"
      }
    },
    {
      "cell_type": "code",
      "source": [
        "path = f'/content/drive/MyDrive/GEI_50/000/'\n",
        "files = os.listdir(path)\n",
        "files.sort()\n",
        "imgs = [imread(path+f) for f in files]\n",
        "imgs = [image_extract(i,(200,150)) for i in imgs]\n",
        "imgs = np.minimum(imgs,1)\n",
        "\n",
        "X_50 = imgs\n",
        "\n",
        "for id in range(1, 79):\n",
        "  path = f'/content/drive/MyDrive/GEI_50/{str(id).zfill(3)}/'\n",
        "  files = os.listdir(path)\n",
        "  files.sort()\n",
        "  imgs = [imread(path+f) for f in files]\n",
        "  imgs = [image_extract(i,(200,150)) for i in imgs]\n",
        "  imgs = np.minimum(imgs,1)\n",
        "\n",
        "  X_50 = np.append(X_50, imgs, 0)"
      ],
      "metadata": {
        "colab": {
          "base_uri": "https://localhost:8080/"
        },
        "id": "ePPo0BjFJ5M8",
        "outputId": "71aea59c-b114-464e-bdb3-90563e430ffa"
      },
      "execution_count": null,
      "outputs": [
        {
          "output_type": "stream",
          "name": "stderr",
          "text": [
            "<ipython-input-52-d16912393d2f>:4: DeprecationWarning: Starting with ImageIO v3 the behavior of this function will switch to that of iio.v3.imread. To keep the current behavior (and make this warning disappear) use `import imageio.v2 as imageio` or call `imageio.v2.imread` directly.\n",
            "  imgs = [imread(path+f) for f in files]\n",
            "<ipython-input-52-d16912393d2f>:14: DeprecationWarning: Starting with ImageIO v3 the behavior of this function will switch to that of iio.v3.imread. To keep the current behavior (and make this warning disappear) use `import imageio.v2 as imageio` or call `imageio.v2.imread` directly.\n",
            "  imgs = [imread(path+f) for f in files]\n"
          ]
        }
      ]
    },
    {
      "cell_type": "code",
      "source": [
        "model.score(np.reshape(X_50, (X_50.shape[0], -1)), label_copy)"
      ],
      "metadata": {
        "colab": {
          "base_uri": "https://localhost:8080/"
        },
        "id": "XrKE5aDrJ-uL",
        "outputId": "5aba7898-3a4c-49f6-84d0-20b573f9ed0e"
      },
      "execution_count": null,
      "outputs": [
        {
          "output_type": "execute_result",
          "data": {
            "text/plain": [
              "0.415"
            ]
          },
          "metadata": {},
          "execution_count": 53
        }
      ]
    },
    {
      "cell_type": "code",
      "source": [],
      "metadata": {
        "id": "NRCia6tkKOG9"
      },
      "execution_count": null,
      "outputs": []
    }
  ]
}